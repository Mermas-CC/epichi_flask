{
  "cells": [
    {
      "cell_type": "markdown",
      "metadata": {
        "id": "45domr0Cth1q"
      },
      "source": [
        "#Importacion de dependencias\n",
        "\n",
        "---\n",
        "\n"
      ]
    },
    {
      "cell_type": "code",
      "execution_count": null,
      "metadata": {
        "id": "wzo5RLzNjmU8"
      },
      "outputs": [],
      "source": [
        "import re\n",
        "import random\n",
        "from google.colab import output\n",
        "\n",
        "# TensorFlow and Keras imports\n",
        "import tensorflow as tf\n",
        "from tensorflow import keras\n",
        "from tensorflow.keras.models import Sequential\n",
        "from tensorflow.keras.callbacks import History\n",
        "from tensorflow.keras.layers import (\n",
        "    Input,\n",
        "    Embedding,\n",
        "    LSTM,\n",
        "    GRU,  # Choose GRU or LSTM for your model\n",
        "    LayerNormalization,\n",
        "    Dense,\n",
        "    Dropout,\n",
        "    Bidirectional,  # Optional for Bidirectional models\n",
        ")\n",
        "from tensorflow.keras.utils import plot_model\n",
        "from tensorflow.keras.preprocessing.text import Tokenizer\n",
        "from tensorflow.keras.preprocessing.sequence import pad_sequences\n",
        "\n",
        "# Optional imports for data manipulation and preprocessing (uncomment if needed)\n",
        "import numpy as np\n",
        "import pandas as pd\n",
        "import json\n",
        "\n",
        "# Optional import for text classification (uncomment if needed)\n",
        "from sklearn.preprocessing import LabelEncoder\n",
        "\n",
        "# Optional import for serialization (uncomment if needed)\n",
        "import pickle"
      ]
    },
    {
      "cell_type": "markdown",
      "metadata": {
        "id": "NjqyIvhIkDb5"
      },
      "source": [
        "#CARGAR Y MODIFICAR DATA\n",
        "\n",
        "\n",
        "---\n",
        "\n"
      ]
    },
    {
      "cell_type": "code",
      "execution_count": null,
      "metadata": {
        "colab": {
          "base_uri": "https://localhost:8080/",
          "height": 576
        },
        "id": "pKUuMbxOkLlL",
        "outputId": "c998252c-440c-4dba-cda3-4bb24197f048"
      },
      "outputs": [
        {
          "data": {
            "text/html": [
              "\n",
              "     <input type=\"file\" id=\"files-54a5b0db-08d0-4d47-afd5-fc6b26157f31\" name=\"files[]\" multiple disabled\n",
              "        style=\"border:none\" />\n",
              "     <output id=\"result-54a5b0db-08d0-4d47-afd5-fc6b26157f31\">\n",
              "      Upload widget is only available when the cell has been executed in the\n",
              "      current browser session. Please rerun this cell to enable.\n",
              "      </output>\n",
              "      <script>// Copyright 2017 Google LLC\n",
              "//\n",
              "// Licensed under the Apache License, Version 2.0 (the \"License\");\n",
              "// you may not use this file except in compliance with the License.\n",
              "// You may obtain a copy of the License at\n",
              "//\n",
              "//      http://www.apache.org/licenses/LICENSE-2.0\n",
              "//\n",
              "// Unless required by applicable law or agreed to in writing, software\n",
              "// distributed under the License is distributed on an \"AS IS\" BASIS,\n",
              "// WITHOUT WARRANTIES OR CONDITIONS OF ANY KIND, either express or implied.\n",
              "// See the License for the specific language governing permissions and\n",
              "// limitations under the License.\n",
              "\n",
              "/**\n",
              " * @fileoverview Helpers for google.colab Python module.\n",
              " */\n",
              "(function(scope) {\n",
              "function span(text, styleAttributes = {}) {\n",
              "  const element = document.createElement('span');\n",
              "  element.textContent = text;\n",
              "  for (const key of Object.keys(styleAttributes)) {\n",
              "    element.style[key] = styleAttributes[key];\n",
              "  }\n",
              "  return element;\n",
              "}\n",
              "\n",
              "// Max number of bytes which will be uploaded at a time.\n",
              "const MAX_PAYLOAD_SIZE = 100 * 1024;\n",
              "\n",
              "function _uploadFiles(inputId, outputId) {\n",
              "  const steps = uploadFilesStep(inputId, outputId);\n",
              "  const outputElement = document.getElementById(outputId);\n",
              "  // Cache steps on the outputElement to make it available for the next call\n",
              "  // to uploadFilesContinue from Python.\n",
              "  outputElement.steps = steps;\n",
              "\n",
              "  return _uploadFilesContinue(outputId);\n",
              "}\n",
              "\n",
              "// This is roughly an async generator (not supported in the browser yet),\n",
              "// where there are multiple asynchronous steps and the Python side is going\n",
              "// to poll for completion of each step.\n",
              "// This uses a Promise to block the python side on completion of each step,\n",
              "// then passes the result of the previous step as the input to the next step.\n",
              "function _uploadFilesContinue(outputId) {\n",
              "  const outputElement = document.getElementById(outputId);\n",
              "  const steps = outputElement.steps;\n",
              "\n",
              "  const next = steps.next(outputElement.lastPromiseValue);\n",
              "  return Promise.resolve(next.value.promise).then((value) => {\n",
              "    // Cache the last promise value to make it available to the next\n",
              "    // step of the generator.\n",
              "    outputElement.lastPromiseValue = value;\n",
              "    return next.value.response;\n",
              "  });\n",
              "}\n",
              "\n",
              "/**\n",
              " * Generator function which is called between each async step of the upload\n",
              " * process.\n",
              " * @param {string} inputId Element ID of the input file picker element.\n",
              " * @param {string} outputId Element ID of the output display.\n",
              " * @return {!Iterable<!Object>} Iterable of next steps.\n",
              " */\n",
              "function* uploadFilesStep(inputId, outputId) {\n",
              "  const inputElement = document.getElementById(inputId);\n",
              "  inputElement.disabled = false;\n",
              "\n",
              "  const outputElement = document.getElementById(outputId);\n",
              "  outputElement.innerHTML = '';\n",
              "\n",
              "  const pickedPromise = new Promise((resolve) => {\n",
              "    inputElement.addEventListener('change', (e) => {\n",
              "      resolve(e.target.files);\n",
              "    });\n",
              "  });\n",
              "\n",
              "  const cancel = document.createElement('button');\n",
              "  inputElement.parentElement.appendChild(cancel);\n",
              "  cancel.textContent = 'Cancel upload';\n",
              "  const cancelPromise = new Promise((resolve) => {\n",
              "    cancel.onclick = () => {\n",
              "      resolve(null);\n",
              "    };\n",
              "  });\n",
              "\n",
              "  // Wait for the user to pick the files.\n",
              "  const files = yield {\n",
              "    promise: Promise.race([pickedPromise, cancelPromise]),\n",
              "    response: {\n",
              "      action: 'starting',\n",
              "    }\n",
              "  };\n",
              "\n",
              "  cancel.remove();\n",
              "\n",
              "  // Disable the input element since further picks are not allowed.\n",
              "  inputElement.disabled = true;\n",
              "\n",
              "  if (!files) {\n",
              "    return {\n",
              "      response: {\n",
              "        action: 'complete',\n",
              "      }\n",
              "    };\n",
              "  }\n",
              "\n",
              "  for (const file of files) {\n",
              "    const li = document.createElement('li');\n",
              "    li.append(span(file.name, {fontWeight: 'bold'}));\n",
              "    li.append(span(\n",
              "        `(${file.type || 'n/a'}) - ${file.size} bytes, ` +\n",
              "        `last modified: ${\n",
              "            file.lastModifiedDate ? file.lastModifiedDate.toLocaleDateString() :\n",
              "                                    'n/a'} - `));\n",
              "    const percent = span('0% done');\n",
              "    li.appendChild(percent);\n",
              "\n",
              "    outputElement.appendChild(li);\n",
              "\n",
              "    const fileDataPromise = new Promise((resolve) => {\n",
              "      const reader = new FileReader();\n",
              "      reader.onload = (e) => {\n",
              "        resolve(e.target.result);\n",
              "      };\n",
              "      reader.readAsArrayBuffer(file);\n",
              "    });\n",
              "    // Wait for the data to be ready.\n",
              "    let fileData = yield {\n",
              "      promise: fileDataPromise,\n",
              "      response: {\n",
              "        action: 'continue',\n",
              "      }\n",
              "    };\n",
              "\n",
              "    // Use a chunked sending to avoid message size limits. See b/62115660.\n",
              "    let position = 0;\n",
              "    do {\n",
              "      const length = Math.min(fileData.byteLength - position, MAX_PAYLOAD_SIZE);\n",
              "      const chunk = new Uint8Array(fileData, position, length);\n",
              "      position += length;\n",
              "\n",
              "      const base64 = btoa(String.fromCharCode.apply(null, chunk));\n",
              "      yield {\n",
              "        response: {\n",
              "          action: 'append',\n",
              "          file: file.name,\n",
              "          data: base64,\n",
              "        },\n",
              "      };\n",
              "\n",
              "      let percentDone = fileData.byteLength === 0 ?\n",
              "          100 :\n",
              "          Math.round((position / fileData.byteLength) * 100);\n",
              "      percent.textContent = `${percentDone}% done`;\n",
              "\n",
              "    } while (position < fileData.byteLength);\n",
              "  }\n",
              "\n",
              "  // All done.\n",
              "  yield {\n",
              "    response: {\n",
              "      action: 'complete',\n",
              "    }\n",
              "  };\n",
              "}\n",
              "\n",
              "scope.google = scope.google || {};\n",
              "scope.google.colab = scope.google.colab || {};\n",
              "scope.google.colab._files = {\n",
              "  _uploadFiles,\n",
              "  _uploadFilesContinue,\n",
              "};\n",
              "})(self);\n",
              "</script> "
            ],
            "text/plain": [
              "<IPython.core.display.HTML object>"
            ]
          },
          "metadata": {},
          "output_type": "display_data"
        },
        {
          "name": "stdout",
          "output_type": "stream",
          "text": [
            "Saving chatbot.json to chatbot.json\n"
          ]
        },
        {
          "data": {
            "text/plain": [
              "array(['Artículo 1 Finalidad', 'Artículo 5 Bachillerato automático',\n",
              "       'Artículo 6 p1 Del Trabajo de Investigación',\n",
              "       'Artículo 6 p2 Del Trabajo de Investigación',\n",
              "       'Artículo 7 Procedimiento y Trámite', 'Artículo 8 Del trámite',\n",
              "       'Artículo 12 Ceremonia de entrega de Diplomas de Bachiller',\n",
              "       'Artículo 13 Del Título Profesional',\n",
              "       'Artículo 15 Concepto de Proyecto de Tesis',\n",
              "       'Artículo 18 Asesor del Proyecto de Tesis',\n",
              "       'Artículo 22 Solicitud al Director de Escuela',\n",
              "       'Artículo 23 Designación del Jurado del Proyecto de Tesis',\n",
              "       'Artículo 24 Composición del Jurado dictaminador',\n",
              "       'Artículo 29 Dictamen y presencia de Jurado del Proyecto de Tesis',\n",
              "       'Artículo 32 Declaración de apto, no apto o improcedente en el dictamen',\n",
              "       'Artículo 36 Procedimiento de Proyecto de tesis declarado apto',\n",
              "       'Artículo 37 Plazo de ejecución de la Tesis',\n",
              "       'Artículo 38 Nuevo Proyecto en caso de anulación',\n",
              "       'Artículo 39 Solicitud de trámite dictamen de proyecto de tesis',\n",
              "       'Artículo 40 Modificación del Jurado de Tesis',\n",
              "       'Artículo 44 Plazo para emitir el dictamen',\n",
              "       'Artículo 47 Proceso de revisión de la Tesis',\n",
              "       'Artículo 48 Declaración de apto del informe final de la tesis',\n",
              "       'Artículo 50 Impedimento de formular nuevas observaciones',\n",
              "       'Artículo 53 Fecha y sustentación de Tesis',\n",
              "       'Artículo 53  Acta de sustentación de tesis',\n",
              "       'Artículo 56 : Formalidades de la sustentación',\n",
              "       'Artículo 58 : Preguntas en la sustentación',\n",
              "       'Artículo 60 : Puntaje en la sustentación',\n",
              "       'Artículo 62 : Deliberación del Jurado',\n",
              "       'Artículo 64 : Formato Impreso y Digital'], dtype=object)"
            ]
          },
          "execution_count": 2,
          "metadata": {},
          "output_type": "execute_result"
        }
      ],
      "source": [
        "# Cargar los datos del archivo JSON (asegúrate de tener el archivo chatbot_grados.json en tu entorno)\n",
        "from google.colab import files\n",
        "uploaded = files.upload()\n",
        "\n",
        "with open(\"chatbot.json\", 'r') as f:\n",
        "    data = json.load(f)\n",
        "\n",
        "df = pd.DataFrame(data['intents'])\n",
        "\n",
        "# Almacenar datos que serán convertidos a DataFrame\n",
        "dic = {\"tag\": [], \"patterns\": [], \"responses\": []}\n",
        "for i in range(len(df)):\n",
        "    ptrns = df[df.index == i]['patterns'].values[0]\n",
        "    rspns = df[df.index == i]['responses'].values[0]\n",
        "    tag = df[df.index == i]['tag'].values[0]\n",
        "\n",
        "    for j in range(len(ptrns)):\n",
        "        dic['tag'].append(tag)\n",
        "        dic['patterns'].append(ptrns[j])\n",
        "        dic['responses'].append(rspns)\n",
        "\n",
        "# Crear un nuevo DataFrame a partir del diccionario\n",
        "df = pd.DataFrame.from_dict(dic)\n",
        "\n",
        "# Mostrar el DataFrame para verificar\n",
        "df.head()\n",
        "\n",
        "# Obtener las etiquetas únicas\n",
        "df['tag'].unique()"
      ]
    },
    {
      "cell_type": "markdown",
      "metadata": {
        "id": "IsuztmMOkkbZ"
      },
      "source": [
        "#TOKENIZACION (PRE PROCESSING)"
      ]
    },
    {
      "cell_type": "code",
      "execution_count": null,
      "metadata": {
        "colab": {
          "base_uri": "https://localhost:8080/"
        },
        "id": "O1sjL_bdkqV1",
        "outputId": "1ab19744-a22d-4640-d3f4-67d9ca10dbe3"
      },
      "outputs": [
        {
          "name": "stdout",
          "output_type": "stream",
          "text": [
            "Tamaño del Vocabulario: 574\n",
            "Número de Clases: 31\n",
            "X: [[198   0   0   0   0   0   0   0   0   0   0   0   0   0   0   0   0   0\n",
            "    0   0   0   0   0   0]\n",
            " [ 18 278   0   0   0   0   0   0   0   0   0   0   0   0   0   0   0   0\n",
            "    0   0   0   0   0   0]\n",
            " [106  20 279 280   0   0   0   0   0   0   0   0   0   0   0   0   0   0\n",
            "    0   0   0   0   0   0]\n",
            " [ 15 281  43   0   0   0   0   0   0   0   0   0   0   0   0   0   0   0\n",
            "    0   0   0   0   0   0]\n",
            " [107 154   0   0   0   0   0   0   0   0   0   0   0   0   0   0   0   0\n",
            "    0   0   0   0   0   0]]\n",
            "y: [0 0 0 0 0]\n"
          ]
        }
      ],
      "source": [
        "# Tokenización de textos\n",
        "tokenizer = Tokenizer(lower=True, split=' ')\n",
        "tokenizer.fit_on_texts(df['patterns'])\n",
        "tokenizer.get_config()\n",
        "\n",
        "# Obtener el tamaño del vocabulario\n",
        "vocab_size = len(tokenizer.word_index)\n",
        "\n",
        "# Preprocesamiento de secuencias y codificación de etiquetas\n",
        "ptrn2seq = tokenizer.texts_to_sequences(df['patterns'])\n",
        "X = pad_sequences(ptrn2seq, padding='post')\n",
        "\n",
        "lbl_enc = LabelEncoder()\n",
        "y = lbl_enc.fit_transform(df['tag'])\n",
        "num_classes = len(np.unique(y))\n",
        "\n",
        "# Mostrar el tamaño del vocabulario y el número de clases\n",
        "print('Tamaño del Vocabulario:', vocab_size)\n",
        "print('Número de Clases:', num_classes)\n",
        "\n",
        "# Mostrar una muestra de X y y\n",
        "print('X:', X[:5])\n",
        "print('y:', y[:5])"
      ]
    },
    {
      "cell_type": "code",
      "execution_count": null,
      "metadata": {
        "colab": {
          "base_uri": "https://localhost:8080/"
        },
        "id": "1-ByetdROLR4",
        "outputId": "857293fe-ef9b-4192-c7f1-a9254fd9f7a8"
      },
      "outputs": [
        {
          "name": "stdout",
          "output_type": "stream",
          "text": [
            "X shape =  (476, 24)\n",
            "y shape =  (476,)\n",
            "num of classes =  31\n"
          ]
        }
      ],
      "source": [
        "# Preprocesamiento de secuencias y codificación de etiquetas\n",
        "from tensorflow.keras.preprocessing.sequence import pad_sequences\n",
        "from sklearn.preprocessing import LabelEncoder\n",
        "ptrn2seq = tokenizer.texts_to_sequences(df['patterns'])  # Convertir patrones de texto a secuencias\n",
        "X = pad_sequences(ptrn2seq, padding='post')  # Aplicar padding a las secuencias\n",
        "print('X shape = ', X.shape)  # Imprimir la forma de X\n",
        "\n",
        "lbl_enc = LabelEncoder()  # Crear un codificador de etiquetas\n",
        "y = lbl_enc.fit_transform(df['tag'])  # Codificar las etiquetas como números\n",
        "print('y shape = ', y.shape)  # Imprimir la forma de y\n",
        "print('num of classes = ', len(np.unique(y)))  # Imprimir el número de clases únicas"
      ]
    },
    {
      "cell_type": "markdown",
      "metadata": {
        "id": "30yKjnJYlDWt"
      },
      "source": [
        "#LSTM"
      ]
    },
    {
      "cell_type": "code",
      "execution_count": null,
      "metadata": {
        "colab": {
          "base_uri": "https://localhost:8080/"
        },
        "id": "HfCU8esGlYNR",
        "outputId": "a6c445b4-3cc1-4a56-f2ea-760f9123e04c"
      },
      "outputs": [
        {
          "name": "stdout",
          "output_type": "stream",
          "text": [
            "Model: \"sequential\"\n",
            "_________________________________________________________________\n",
            " Layer (type)                Output Shape              Param #   \n",
            "=================================================================\n",
            " embedding (Embedding)       (None, None, 100)         57500     \n",
            "                                                                 \n",
            " lstm (LSTM)                 (None, None, 32)          17024     \n",
            "                                                                 \n",
            " layer_normalization (Layer  (None, None, 32)          64        \n",
            " Normalization)                                                  \n",
            "                                                                 \n",
            " lstm_1 (LSTM)               (None, 32)                8320      \n",
            "                                                                 \n",
            " layer_normalization_1 (Lay  (None, 32)                64        \n",
            " erNormalization)                                                \n",
            "                                                                 \n",
            " dense (Dense)               (None, 256)               8448      \n",
            "                                                                 \n",
            " layer_normalization_2 (Lay  (None, 256)               512       \n",
            " erNormalization)                                                \n",
            "                                                                 \n",
            " dropout (Dropout)           (None, 256)               0         \n",
            "                                                                 \n",
            " dense_1 (Dense)             (None, 256)               65792     \n",
            "                                                                 \n",
            " dropout_1 (Dropout)         (None, 256)               0         \n",
            "                                                                 \n",
            " layer_normalization_3 (Lay  (None, 256)               512       \n",
            " erNormalization)                                                \n",
            "                                                                 \n",
            " dense_2 (Dense)             (None, 31)                7967      \n",
            "                                                                 \n",
            "=================================================================\n",
            "Total params: 166203 (649.23 KB)\n",
            "Trainable params: 166203 (649.23 KB)\n",
            "Non-trainable params: 0 (0.00 Byte)\n",
            "_________________________________________________________________\n"
          ]
        }
      ],
      "source": [
        "modelLstm = Sequential()\n",
        "\n",
        "\n",
        "modelLstm.add(Embedding(input_dim=vocab_size+1, output_dim=100, mask_zero=True))\n",
        "modelLstm.add(LSTM(32, return_sequences=True))\n",
        "modelLstm.add(LayerNormalization())\n",
        "\n",
        "modelLstm.add(LSTM(32))\n",
        "modelLstm.add(LayerNormalization())\n",
        "\n",
        "modelLstm.add(Dense(256, activation=\"relu\"))\n",
        "modelLstm.add(LayerNormalization())\n",
        "modelLstm.add(Dropout(0.5))\n",
        "\n",
        "modelLstm.add(Dense(256, activation=\"relu\"))\n",
        "modelLstm.add(Dropout(0.5))\n",
        "\n",
        "modelLstm.add(LayerNormalization())\n",
        "modelLstm.add(Dense(len(np.unique(y)), activation=\"softmax\"))\n",
        "\n",
        "\n",
        "# Compilar el modelo\n",
        "modelLstm.compile(optimizer='adam', loss=\"sparse_categorical_crossentropy\", metrics=['accuracy'])\n",
        "\n",
        "# Imprimir un resumen del modelo\n",
        "modelLstm.summary()\n",
        "\n",
        "# Visualizar la estructura del modelo\n",
        "# plot_model(modelLstm, show_shapes=True)"
      ]
    },
    {
      "cell_type": "code",
      "execution_count": null,
      "metadata": {
        "colab": {
          "base_uri": "https://localhost:8080/"
        },
        "id": "lRukPez4lqH_",
        "outputId": "e053d62f-c062-4e48-997e-7309c5b081c9"
      },
      "outputs": [
        {
          "name": "stdout",
          "output_type": "stream",
          "text": [
            "Epoch 1/20\n",
            "48/48 [==============================] - 13s 35ms/step - loss: 3.8228 - accuracy: 0.0924\n",
            "Epoch 2/20\n",
            "48/48 [==============================] - 2s 52ms/step - loss: 2.9583 - accuracy: 0.2290\n",
            "Epoch 3/20\n",
            "48/48 [==============================] - 2s 32ms/step - loss: 2.2202 - accuracy: 0.3739\n",
            "Epoch 4/20\n",
            "48/48 [==============================] - 2s 34ms/step - loss: 1.6326 - accuracy: 0.5441\n",
            "Epoch 5/20\n",
            "48/48 [==============================] - 2s 32ms/step - loss: 1.0901 - accuracy: 0.7017\n",
            "Epoch 6/20\n",
            "48/48 [==============================] - 2s 35ms/step - loss: 0.7935 - accuracy: 0.7962\n",
            "Epoch 7/20\n",
            "48/48 [==============================] - 2s 33ms/step - loss: 0.5266 - accuracy: 0.8571\n",
            "Epoch 8/20\n",
            "48/48 [==============================] - 2s 33ms/step - loss: 0.4025 - accuracy: 0.9076\n",
            "Epoch 9/20\n",
            "48/48 [==============================] - 2s 52ms/step - loss: 0.2985 - accuracy: 0.9349\n",
            "Epoch 10/20\n",
            "48/48 [==============================] - 2s 33ms/step - loss: 0.2341 - accuracy: 0.9538\n",
            "Epoch 11/20\n",
            "48/48 [==============================] - 1s 30ms/step - loss: 0.2607 - accuracy: 0.9328\n",
            "Epoch 12/20\n",
            "48/48 [==============================] - 1s 30ms/step - loss: 0.1654 - accuracy: 0.9769\n",
            "Epoch 13/20\n",
            "48/48 [==============================] - 1s 30ms/step - loss: 0.1439 - accuracy: 0.9748\n",
            "Epoch 14/20\n",
            "48/48 [==============================] - 1s 30ms/step - loss: 0.1366 - accuracy: 0.9727\n",
            "Epoch 15/20\n",
            "48/48 [==============================] - 2s 31ms/step - loss: 0.1092 - accuracy: 0.9790\n",
            "Epoch 16/20\n",
            "48/48 [==============================] - 2s 40ms/step - loss: 0.0883 - accuracy: 0.9811\n",
            "Epoch 17/20\n",
            "48/48 [==============================] - 2s 51ms/step - loss: 0.0761 - accuracy: 0.9874\n",
            "Epoch 18/20\n",
            "48/48 [==============================] - 2s 32ms/step - loss: 0.0798 - accuracy: 0.9832\n",
            "Epoch 19/20\n",
            "48/48 [==============================] - 2s 34ms/step - loss: 0.0571 - accuracy: 0.9937\n",
            "Epoch 20/20\n",
            "48/48 [==============================] - 2s 32ms/step - loss: 0.0670 - accuracy: 0.9895\n"
          ]
        }
      ],
      "source": [
        "# Entrenar el modelo\n",
        "import tensorflow\n",
        "model_history_LSTM = modelLstm.fit(x=X, y=y,\n",
        "                           batch_size=10,\n",
        "                           callbacks=[tensorflow.keras.callbacks.EarlyStopping(monitor='accuracy', patience=3),History()],\n",
        "                           epochs=20)"
      ]
    },
    {
      "cell_type": "code",
      "execution_count": null,
      "metadata": {
        "colab": {
          "base_uri": "https://localhost:8080/",
          "height": 17
        },
        "id": "EowOhmXZlXl4",
        "outputId": "5dcf2d33-2849-42c3-8d61-f61d541d224b"
      },
      "outputs": [
        {
          "data": {
            "application/javascript": "\n    async function download(id, filename, size) {\n      if (!google.colab.kernel.accessAllowed) {\n        return;\n      }\n      const div = document.createElement('div');\n      const label = document.createElement('label');\n      label.textContent = `Downloading \"${filename}\": `;\n      div.appendChild(label);\n      const progress = document.createElement('progress');\n      progress.max = size;\n      div.appendChild(progress);\n      document.body.appendChild(div);\n\n      const buffers = [];\n      let downloaded = 0;\n\n      const channel = await google.colab.kernel.comms.open(id);\n      // Send a message to notify the kernel that we're ready.\n      channel.send({})\n\n      for await (const message of channel.messages) {\n        // Send a message to notify the kernel that we're ready.\n        channel.send({})\n        if (message.buffers) {\n          for (const buffer of message.buffers) {\n            buffers.push(buffer);\n            downloaded += buffer.byteLength;\n            progress.value = downloaded;\n          }\n        }\n      }\n      const blob = new Blob(buffers, {type: 'application/binary'});\n      const a = document.createElement('a');\n      a.href = window.URL.createObjectURL(blob);\n      a.download = filename;\n      div.appendChild(a);\n      a.click();\n      div.remove();\n    }\n  ",
            "text/plain": [
              "<IPython.core.display.Javascript object>"
            ]
          },
          "metadata": {},
          "output_type": "display_data"
        },
        {
          "data": {
            "application/javascript": "download(\"download_6742dd08-e866-4020-a895-199db458d148\", \"tokenizer_lstm.pkl\", 20666)",
            "text/plain": [
              "<IPython.core.display.Javascript object>"
            ]
          },
          "metadata": {},
          "output_type": "display_data"
        },
        {
          "data": {
            "application/javascript": "\n    async function download(id, filename, size) {\n      if (!google.colab.kernel.accessAllowed) {\n        return;\n      }\n      const div = document.createElement('div');\n      const label = document.createElement('label');\n      label.textContent = `Downloading \"${filename}\": `;\n      div.appendChild(label);\n      const progress = document.createElement('progress');\n      progress.max = size;\n      div.appendChild(progress);\n      document.body.appendChild(div);\n\n      const buffers = [];\n      let downloaded = 0;\n\n      const channel = await google.colab.kernel.comms.open(id);\n      // Send a message to notify the kernel that we're ready.\n      channel.send({})\n\n      for await (const message of channel.messages) {\n        // Send a message to notify the kernel that we're ready.\n        channel.send({})\n        if (message.buffers) {\n          for (const buffer of message.buffers) {\n            buffers.push(buffer);\n            downloaded += buffer.byteLength;\n            progress.value = downloaded;\n          }\n        }\n      }\n      const blob = new Blob(buffers, {type: 'application/binary'});\n      const a = document.createElement('a');\n      a.href = window.URL.createObjectURL(blob);\n      a.download = filename;\n      div.appendChild(a);\n      a.click();\n      div.remove();\n    }\n  ",
            "text/plain": [
              "<IPython.core.display.Javascript object>"
            ]
          },
          "metadata": {},
          "output_type": "display_data"
        },
        {
          "data": {
            "application/javascript": "download(\"download_bcd2c0b3-aedc-4149-a90b-bc09b27f8389\", \"label_encoder_lstm.pkl\", 1777)",
            "text/plain": [
              "<IPython.core.display.Javascript object>"
            ]
          },
          "metadata": {},
          "output_type": "display_data"
        },
        {
          "data": {
            "application/javascript": "\n    async function download(id, filename, size) {\n      if (!google.colab.kernel.accessAllowed) {\n        return;\n      }\n      const div = document.createElement('div');\n      const label = document.createElement('label');\n      label.textContent = `Downloading \"${filename}\": `;\n      div.appendChild(label);\n      const progress = document.createElement('progress');\n      progress.max = size;\n      div.appendChild(progress);\n      document.body.appendChild(div);\n\n      const buffers = [];\n      let downloaded = 0;\n\n      const channel = await google.colab.kernel.comms.open(id);\n      // Send a message to notify the kernel that we're ready.\n      channel.send({})\n\n      for await (const message of channel.messages) {\n        // Send a message to notify the kernel that we're ready.\n        channel.send({})\n        if (message.buffers) {\n          for (const buffer of message.buffers) {\n            buffers.push(buffer);\n            downloaded += buffer.byteLength;\n            progress.value = downloaded;\n          }\n        }\n      }\n      const blob = new Blob(buffers, {type: 'application/binary'});\n      const a = document.createElement('a');\n      a.href = window.URL.createObjectURL(blob);\n      a.download = filename;\n      div.appendChild(a);\n      a.click();\n      div.remove();\n    }\n  ",
            "text/plain": [
              "<IPython.core.display.Javascript object>"
            ]
          },
          "metadata": {},
          "output_type": "display_data"
        },
        {
          "data": {
            "application/javascript": "download(\"download_ff04e305-ac6d-45ce-a9bf-4344ae8dd584\", \"my_lstm_model.keras\", 2063375)",
            "text/plain": [
              "<IPython.core.display.Javascript object>"
            ]
          },
          "metadata": {},
          "output_type": "display_data"
        },
        {
          "data": {
            "application/javascript": "\n    async function download(id, filename, size) {\n      if (!google.colab.kernel.accessAllowed) {\n        return;\n      }\n      const div = document.createElement('div');\n      const label = document.createElement('label');\n      label.textContent = `Downloading \"${filename}\": `;\n      div.appendChild(label);\n      const progress = document.createElement('progress');\n      progress.max = size;\n      div.appendChild(progress);\n      document.body.appendChild(div);\n\n      const buffers = [];\n      let downloaded = 0;\n\n      const channel = await google.colab.kernel.comms.open(id);\n      // Send a message to notify the kernel that we're ready.\n      channel.send({})\n\n      for await (const message of channel.messages) {\n        // Send a message to notify the kernel that we're ready.\n        channel.send({})\n        if (message.buffers) {\n          for (const buffer of message.buffers) {\n            buffers.push(buffer);\n            downloaded += buffer.byteLength;\n            progress.value = downloaded;\n          }\n        }\n      }\n      const blob = new Blob(buffers, {type: 'application/binary'});\n      const a = document.createElement('a');\n      a.href = window.URL.createObjectURL(blob);\n      a.download = filename;\n      div.appendChild(a);\n      a.click();\n      div.remove();\n    }\n  ",
            "text/plain": [
              "<IPython.core.display.Javascript object>"
            ]
          },
          "metadata": {},
          "output_type": "display_data"
        },
        {
          "data": {
            "application/javascript": "download(\"download_b7996a89-5077-4302-af14-217b55b08f5f\", \"historial_modelo_lstm.pkl\", 402)",
            "text/plain": [
              "<IPython.core.display.Javascript object>"
            ]
          },
          "metadata": {},
          "output_type": "display_data"
        }
      ],
      "source": [
        "# Guardar el Tokenizador\n",
        "\n",
        "with open('tokenizer_lstm.pkl', 'wb') as handle:\n",
        "    pickle.dump(tokenizer, handle, protocol=pickle.HIGHEST_PROTOCOL)\n",
        "\n",
        "# Guardar el Codificador de Etiquetas\n",
        "with open('label_encoder_lstm.pkl', 'wb') as handle:\n",
        "    pickle.dump(lbl_enc, handle, protocol=pickle.HIGHEST_PROTOCOL)\n",
        "\n",
        "\n",
        "with open('historial_modelo_lstm.pkl', 'wb') as f:\n",
        "    pickle.dump(model_history_LSTM.history, f)\n",
        "\n",
        "# Guardar el Modelo LSTM\n",
        "modelLstm.save(\"my_lstm_model.keras\")\n",
        "\n",
        "# Descargar los archivos generados\n",
        "from google.colab import files\n",
        "files.download('tokenizer_lstm.pkl')\n",
        "files.download('label_encoder_lstm.pkl')\n",
        "files.download('my_lstm_model.keras')\n",
        "files.download('historial_modelo_lstm.pkl')\n",
        "\n"
      ]
    },
    {
      "cell_type": "code",
      "execution_count": null,
      "metadata": {
        "id": "TyAdC8NquQsw"
      },
      "outputs": [],
      "source": [
        "import re\n",
        "\n",
        "def inputan_user_LSTM(pattern):\n",
        "    text = []\n",
        "    txt = re.sub('[^a-zA-Z\\']', ' ', pattern)\n",
        "    txt = txt.lower()\n",
        "    txt = txt.split()\n",
        "    txt = \" \".join(txt)\n",
        "    text.append(txt)\n",
        "\n",
        "    # Tokenizar y aplicar padding a la entrada\n",
        "    x_test = tokenizer.texts_to_sequences(text)\n",
        "    x_test = pad_sequences(x_test, padding='post', maxlen=18)\n",
        "\n",
        "    # Hacer predicción usando el modelo\n",
        "    y_pred = modelLstm.predict(x_test)\n",
        "    y_pred = y_pred.argmax()\n",
        "    tag = lbl_enc.inverse_transform([y_pred])[0]\n",
        "    responses = df[df['tag'] == tag]['responses'].values[0]\n",
        "\n",
        "    # Mostrar la entrada del usuario y la respuesta del bot\n",
        "    print(\"User: {}\".format(pattern))\n",
        "    print(\" BOT : {}\".format(np.random.choice(responses)))\n"
      ]
    },
    {
      "cell_type": "code",
      "execution_count": null,
      "metadata": {
        "colab": {
          "base_uri": "https://localhost:8080/"
        },
        "id": "kJSNnMuguVdH",
        "outputId": "72846cff-ad80-452e-bbd1-991e3ecb32b2"
      },
      "outputs": [
        {
          "name": "stdout",
          "output_type": "stream",
          "text": [
            "1/1 [==============================] - 4s 4s/step\n",
            "User: hola\n",
            " BOT : ¡Hola! Soy un chatbot de AiMara y estoy aquí para ayudarte. Mi función es proporcionarte toda la información necesaria sobre los procedimientos, requisitos y criterios para obtener el Grado Académico de Bachiller y el Título Profesional en cada una de las Escuelas Profesionales de la Universidad Nacional de Moquegua, siempre siguiendo al pie de la letra la normativa vigente. \n",
            " \n",
            " Mi misión principal es asegurarme de que tengas respuestas claras y precisas sobre las normas de administración que rigen estos procesos, ya que tanto el Grado Académico de Bachiller como el Título Profesional son reconocimientos importantes que la Universidad Nacional de Moquegua otorga en nombre de nuestra nación. \n",
            " \n",
            " Estoy aquí para servirte, así que no dudes en acudir a mí si tienes alguna pregunta o necesitas orientación. Mi objetivo es brindarte la mejor ayuda posible, tanto si eres estudiante, egresado, bachiller, docente o autoridad de alguna de las Escuelas Profesionales de nuestra universidad, así como en las respectivas dependencias administrativas. ¡Estoy a tu disposición!\n"
          ]
        }
      ],
      "source": [
        "\n",
        "inputan_user_LSTM(\"hola\")"
      ]
    },
    {
      "cell_type": "code",
      "execution_count": null,
      "metadata": {
        "id": "CjJXvurmmOeF"
      },
      "outputs": [],
      "source": [
        "# modelLstm.save(\"my_model.keras\")"
      ]
    },
    {
      "cell_type": "code",
      "execution_count": null,
      "metadata": {
        "id": "SMGJU3enmPVx"
      },
      "outputs": [],
      "source": [
        "# from tensorflow.keras.models import load_model\n",
        "\n",
        "\n",
        "# model_path_school = 'my_model.keras'  # Update with the correct path\n",
        "# modelo_cargado = load_model(model_path_school)\n",
        "\n",
        "# # Debugging: Check the input shape of the loaded model\n",
        "# print(\"Loaded Model Input Shape:\", modelo_cargado.input_shape)"
      ]
    },
    {
      "cell_type": "code",
      "execution_count": null,
      "metadata": {
        "id": "deqxhsaqnXE-"
      },
      "outputs": [],
      "source": [
        "# def inputan_user(pattern):\n",
        "#   \"\"\"\n",
        "#   Procesa la entrada del usuario y genera una respuesta.\n",
        "\n",
        "#   Args:\n",
        "#     pattern: La entrada del usuario como cadena de texto.\n",
        "\n",
        "#   Returns:\n",
        "#     La respuesta del bot como cadena de texto.\n",
        "#   \"\"\"\n",
        "#   text = []\n",
        "#   txt = re.sub('[^a-zA-Z\\']', ' ', pattern)\n",
        "#   txt = txt.lower()\n",
        "#   txt = txt.split()\n",
        "#   txt = \" \".join(txt)\n",
        "#   text.append(txt)\n",
        "\n",
        "#   # Tokenizar y aplicar padding a la entrada\n",
        "#   x_test = tokenizer.texts_to_sequences(text)\n",
        "#   x_test = pad_sequences(x_test, padding='post', maxlen=18)\n",
        "\n",
        "#   # Hacer predicción usando el modelo\n",
        "#   y_pred = modelo_cargado.predict(x_test)\n",
        "#   y_pred = y_pred.argmax()\n",
        "#   tag = lbl_enc.inverse_transform([y_pred])[0]\n",
        "#   responses = df[df['tag'] == tag]['responses'].values[0]\n",
        "\n",
        "#   return random.choice(responses)"
      ]
    },
    {
      "cell_type": "code",
      "execution_count": null,
      "metadata": {
        "id": "i0RbqdyHnaCX"
      },
      "outputs": [],
      "source": [
        "# def text_input():\n",
        "#   \"\"\"\n",
        "#   Creates a new line and prompts the user for input.\n",
        "\n",
        "#   Returns:\n",
        "#     The user's input as a string.\n",
        "#   \"\"\"\n",
        "#   print(\"\\nEscribe tu pregunta: \", end=\"\")\n",
        "#   text = input()\n",
        "#   return text\n"
      ]
    },
    {
      "cell_type": "code",
      "execution_count": null,
      "metadata": {
        "id": "sJgMGGULncI1"
      },
      "outputs": [],
      "source": [
        "# import re\n",
        "# while True:\n",
        "#   # Obtener la entrada del usuario\n",
        "#   pattern = text_input()\n",
        "\n",
        "#   # Procesar la entrada del usuario y generar una respuesta\n",
        "#   respuesta = inputan_user(pattern)\n",
        "\n",
        "#   # Mostrar la respuesta del bot\n",
        "#   print(\"BOT:\", respuesta)\n"
      ]
    },
    {
      "cell_type": "markdown",
      "metadata": {
        "id": "vbIqbQgkAX0s"
      },
      "source": [
        "## Graficos y tablas: LSTM"
      ]
    },
    {
      "cell_type": "code",
      "execution_count": null,
      "metadata": {
        "id": "AHlnxFXMAi6c"
      },
      "outputs": [],
      "source": []
    },
    {
      "cell_type": "markdown",
      "metadata": {
        "id": "z8jo60f3nezp"
      },
      "source": [
        "#BILSTM\n"
      ]
    },
    {
      "cell_type": "code",
      "execution_count": null,
      "metadata": {
        "colab": {
          "base_uri": "https://localhost:8080/"
        },
        "id": "BuIoVk8-n8Gq",
        "outputId": "f8bd8bc7-53c5-4676-85d1-36b10dfdafb2"
      },
      "outputs": [
        {
          "name": "stdout",
          "output_type": "stream",
          "text": [
            "Model: \"sequential_1\"\n",
            "_________________________________________________________________\n",
            " Layer (type)                Output Shape              Param #   \n",
            "=================================================================\n",
            " embedding_1 (Embedding)     (None, None, 100)         57500     \n",
            "                                                                 \n",
            " bidirectional (Bidirection  (None, None, 64)          34048     \n",
            " al)                                                             \n",
            "                                                                 \n",
            " layer_normalization_4 (Lay  (None, None, 64)          128       \n",
            " erNormalization)                                                \n",
            "                                                                 \n",
            " bidirectional_1 (Bidirecti  (None, 64)                24832     \n",
            " onal)                                                           \n",
            "                                                                 \n",
            " layer_normalization_5 (Lay  (None, 64)                128       \n",
            " erNormalization)                                                \n",
            "                                                                 \n",
            " dense_3 (Dense)             (None, 256)               16640     \n",
            "                                                                 \n",
            " layer_normalization_6 (Lay  (None, 256)               512       \n",
            " erNormalization)                                                \n",
            "                                                                 \n",
            " dropout_2 (Dropout)         (None, 256)               0         \n",
            "                                                                 \n",
            " dense_4 (Dense)             (None, 256)               65792     \n",
            "                                                                 \n",
            " dropout_3 (Dropout)         (None, 256)               0         \n",
            "                                                                 \n",
            " layer_normalization_7 (Lay  (None, 256)               512       \n",
            " erNormalization)                                                \n",
            "                                                                 \n",
            " dense_5 (Dense)             (None, 31)                7967      \n",
            "                                                                 \n",
            "=================================================================\n",
            "Total params: 208059 (812.73 KB)\n",
            "Trainable params: 208059 (812.73 KB)\n",
            "Non-trainable params: 0 (0.00 Byte)\n",
            "_________________________________________________________________\n"
          ]
        }
      ],
      "source": [
        "modelBiLSTM = Sequential()\n",
        "\n",
        "# Capa de Embedding\n",
        "modelBiLSTM.add(Embedding(input_dim=vocab_size + 1, output_dim=100, mask_zero=True))\n",
        "\n",
        "# Capa BiLSTM\n",
        "modelBiLSTM.add(Bidirectional(LSTM(32, return_sequences=True)))\n",
        "modelBiLSTM.add(LayerNormalization())\n",
        "\n",
        "# Capa BiLSTM (segunda capa)\n",
        "modelBiLSTM.add(Bidirectional(LSTM(32)))\n",
        "modelBiLSTM.add(LayerNormalization())\n",
        "\n",
        "# Capa Densa 1\n",
        "modelBiLSTM.add(Dense(256, activation=\"relu\"))\n",
        "modelBiLSTM.add(LayerNormalization())\n",
        "modelBiLSTM.add(Dropout(0.5))\n",
        "\n",
        "# Capa Densa 2\n",
        "modelBiLSTM.add(Dense(256, activation=\"relu\"))\n",
        "modelBiLSTM.add(Dropout(0.5))\n",
        "\n",
        "# Capa de Salida\n",
        "modelBiLSTM.add(LayerNormalization())\n",
        "modelBiLSTM.add(Dense(num_classes, activation=\"softmax\"))\n",
        "\n",
        "# Compilación del modelo\n",
        "modelBiLSTM.compile(optimizer='adam', loss=\"sparse_categorical_crossentropy\", metrics=['accuracy'])\n",
        "\n",
        "# Resumen del modelo\n",
        "modelBiLSTM.summary()"
      ]
    },
    {
      "cell_type": "code",
      "execution_count": null,
      "metadata": {
        "colab": {
          "base_uri": "https://localhost:8080/"
        },
        "id": "lw2ppDRZoEAj",
        "outputId": "c88582d6-e394-417d-c015-427953cffeac"
      },
      "outputs": [
        {
          "name": "stdout",
          "output_type": "stream",
          "text": [
            "Epoch 1/20\n",
            "48/48 [==============================] - 30s 95ms/step - loss: 3.8583 - accuracy: 0.0756\n",
            "Epoch 2/20\n",
            "48/48 [==============================] - 3s 53ms/step - loss: 2.6530 - accuracy: 0.2710\n",
            "Epoch 3/20\n",
            "48/48 [==============================] - 3s 60ms/step - loss: 1.9561 - accuracy: 0.4370\n",
            "Epoch 4/20\n",
            "48/48 [==============================] - 4s 74ms/step - loss: 1.3609 - accuracy: 0.6282\n",
            "Epoch 5/20\n",
            "48/48 [==============================] - 3s 53ms/step - loss: 0.9977 - accuracy: 0.6933\n",
            "Epoch 6/20\n",
            "48/48 [==============================] - 3s 54ms/step - loss: 0.6802 - accuracy: 0.8172\n",
            "Epoch 7/20\n",
            "48/48 [==============================] - 3s 54ms/step - loss: 0.5739 - accuracy: 0.8424\n",
            "Epoch 8/20\n",
            "48/48 [==============================] - 4s 81ms/step - loss: 0.4076 - accuracy: 0.9034\n",
            "Epoch 9/20\n",
            "48/48 [==============================] - 3s 54ms/step - loss: 0.2474 - accuracy: 0.9454\n",
            "Epoch 10/20\n",
            "48/48 [==============================] - 3s 54ms/step - loss: 0.2362 - accuracy: 0.9454\n",
            "Epoch 11/20\n",
            "48/48 [==============================] - 3s 56ms/step - loss: 0.2114 - accuracy: 0.9580\n",
            "Epoch 12/20\n",
            "48/48 [==============================] - 3s 68ms/step - loss: 0.1284 - accuracy: 0.9811\n",
            "Epoch 13/20\n",
            "48/48 [==============================] - 3s 68ms/step - loss: 0.1287 - accuracy: 0.9748\n",
            "Epoch 14/20\n",
            "48/48 [==============================] - 3s 53ms/step - loss: 0.0995 - accuracy: 0.9811\n",
            "Epoch 15/20\n",
            "48/48 [==============================] - 3s 56ms/step - loss: 0.0790 - accuracy: 0.9853\n",
            "Epoch 16/20\n",
            "48/48 [==============================] - 3s 56ms/step - loss: 0.0798 - accuracy: 0.9811\n",
            "Epoch 17/20\n",
            "48/48 [==============================] - 4s 81ms/step - loss: 0.0640 - accuracy: 0.9895\n",
            "Epoch 18/20\n",
            "48/48 [==============================] - 3s 53ms/step - loss: 0.0574 - accuracy: 0.9874\n",
            "Epoch 19/20\n",
            "48/48 [==============================] - 3s 56ms/step - loss: 0.0487 - accuracy: 0.9895\n",
            "Epoch 20/20\n",
            "48/48 [==============================] - 3s 58ms/step - loss: 0.0629 - accuracy: 0.9853\n"
          ]
        }
      ],
      "source": [
        "# Entrenamiento del modelo\n",
        "model_history_BILSTM = modelBiLSTM.fit(x=X, y=y,\n",
        "                          batch_size=10,\n",
        "                          callbacks=[tf.keras.callbacks.EarlyStopping(monitor='accuracy', patience=3),History()],\n",
        "                          epochs=20)"
      ]
    },
    {
      "cell_type": "code",
      "execution_count": null,
      "metadata": {
        "colab": {
          "base_uri": "https://localhost:8080/",
          "height": 17
        },
        "id": "1CtKGdGxoJK_",
        "outputId": "b1f9dbb2-344a-46ab-d2a4-a2d34d11b53b"
      },
      "outputs": [
        {
          "data": {
            "application/javascript": "\n    async function download(id, filename, size) {\n      if (!google.colab.kernel.accessAllowed) {\n        return;\n      }\n      const div = document.createElement('div');\n      const label = document.createElement('label');\n      label.textContent = `Downloading \"${filename}\": `;\n      div.appendChild(label);\n      const progress = document.createElement('progress');\n      progress.max = size;\n      div.appendChild(progress);\n      document.body.appendChild(div);\n\n      const buffers = [];\n      let downloaded = 0;\n\n      const channel = await google.colab.kernel.comms.open(id);\n      // Send a message to notify the kernel that we're ready.\n      channel.send({})\n\n      for await (const message of channel.messages) {\n        // Send a message to notify the kernel that we're ready.\n        channel.send({})\n        if (message.buffers) {\n          for (const buffer of message.buffers) {\n            buffers.push(buffer);\n            downloaded += buffer.byteLength;\n            progress.value = downloaded;\n          }\n        }\n      }\n      const blob = new Blob(buffers, {type: 'application/binary'});\n      const a = document.createElement('a');\n      a.href = window.URL.createObjectURL(blob);\n      a.download = filename;\n      div.appendChild(a);\n      a.click();\n      div.remove();\n    }\n  ",
            "text/plain": [
              "<IPython.core.display.Javascript object>"
            ]
          },
          "metadata": {},
          "output_type": "display_data"
        },
        {
          "data": {
            "application/javascript": "download(\"download_03236113-47be-47c4-ac76-15aba2b9be20\", \"tokenizer_bilstm.pkl\", 20666)",
            "text/plain": [
              "<IPython.core.display.Javascript object>"
            ]
          },
          "metadata": {},
          "output_type": "display_data"
        },
        {
          "data": {
            "application/javascript": "\n    async function download(id, filename, size) {\n      if (!google.colab.kernel.accessAllowed) {\n        return;\n      }\n      const div = document.createElement('div');\n      const label = document.createElement('label');\n      label.textContent = `Downloading \"${filename}\": `;\n      div.appendChild(label);\n      const progress = document.createElement('progress');\n      progress.max = size;\n      div.appendChild(progress);\n      document.body.appendChild(div);\n\n      const buffers = [];\n      let downloaded = 0;\n\n      const channel = await google.colab.kernel.comms.open(id);\n      // Send a message to notify the kernel that we're ready.\n      channel.send({})\n\n      for await (const message of channel.messages) {\n        // Send a message to notify the kernel that we're ready.\n        channel.send({})\n        if (message.buffers) {\n          for (const buffer of message.buffers) {\n            buffers.push(buffer);\n            downloaded += buffer.byteLength;\n            progress.value = downloaded;\n          }\n        }\n      }\n      const blob = new Blob(buffers, {type: 'application/binary'});\n      const a = document.createElement('a');\n      a.href = window.URL.createObjectURL(blob);\n      a.download = filename;\n      div.appendChild(a);\n      a.click();\n      div.remove();\n    }\n  ",
            "text/plain": [
              "<IPython.core.display.Javascript object>"
            ]
          },
          "metadata": {},
          "output_type": "display_data"
        },
        {
          "data": {
            "application/javascript": "download(\"download_4b01ff43-5c90-45b2-8693-593f13f7e471\", \"label_encoder_bilstm.pkl\", 1777)",
            "text/plain": [
              "<IPython.core.display.Javascript object>"
            ]
          },
          "metadata": {},
          "output_type": "display_data"
        },
        {
          "data": {
            "application/javascript": "\n    async function download(id, filename, size) {\n      if (!google.colab.kernel.accessAllowed) {\n        return;\n      }\n      const div = document.createElement('div');\n      const label = document.createElement('label');\n      label.textContent = `Downloading \"${filename}\": `;\n      div.appendChild(label);\n      const progress = document.createElement('progress');\n      progress.max = size;\n      div.appendChild(progress);\n      document.body.appendChild(div);\n\n      const buffers = [];\n      let downloaded = 0;\n\n      const channel = await google.colab.kernel.comms.open(id);\n      // Send a message to notify the kernel that we're ready.\n      channel.send({})\n\n      for await (const message of channel.messages) {\n        // Send a message to notify the kernel that we're ready.\n        channel.send({})\n        if (message.buffers) {\n          for (const buffer of message.buffers) {\n            buffers.push(buffer);\n            downloaded += buffer.byteLength;\n            progress.value = downloaded;\n          }\n        }\n      }\n      const blob = new Blob(buffers, {type: 'application/binary'});\n      const a = document.createElement('a');\n      a.href = window.URL.createObjectURL(blob);\n      a.download = filename;\n      div.appendChild(a);\n      a.click();\n      div.remove();\n    }\n  ",
            "text/plain": [
              "<IPython.core.display.Javascript object>"
            ]
          },
          "metadata": {},
          "output_type": "display_data"
        },
        {
          "data": {
            "application/javascript": "download(\"download_a36d7e44-b7d4-41be-aa94-d8dbc02c37eb\", \"my_bilstm_model.keras\", 2589945)",
            "text/plain": [
              "<IPython.core.display.Javascript object>"
            ]
          },
          "metadata": {},
          "output_type": "display_data"
        },
        {
          "data": {
            "application/javascript": "\n    async function download(id, filename, size) {\n      if (!google.colab.kernel.accessAllowed) {\n        return;\n      }\n      const div = document.createElement('div');\n      const label = document.createElement('label');\n      label.textContent = `Downloading \"${filename}\": `;\n      div.appendChild(label);\n      const progress = document.createElement('progress');\n      progress.max = size;\n      div.appendChild(progress);\n      document.body.appendChild(div);\n\n      const buffers = [];\n      let downloaded = 0;\n\n      const channel = await google.colab.kernel.comms.open(id);\n      // Send a message to notify the kernel that we're ready.\n      channel.send({})\n\n      for await (const message of channel.messages) {\n        // Send a message to notify the kernel that we're ready.\n        channel.send({})\n        if (message.buffers) {\n          for (const buffer of message.buffers) {\n            buffers.push(buffer);\n            downloaded += buffer.byteLength;\n            progress.value = downloaded;\n          }\n        }\n      }\n      const blob = new Blob(buffers, {type: 'application/binary'});\n      const a = document.createElement('a');\n      a.href = window.URL.createObjectURL(blob);\n      a.download = filename;\n      div.appendChild(a);\n      a.click();\n      div.remove();\n    }\n  ",
            "text/plain": [
              "<IPython.core.display.Javascript object>"
            ]
          },
          "metadata": {},
          "output_type": "display_data"
        },
        {
          "data": {
            "application/javascript": "download(\"download_8b371f85-aff6-4a71-b83d-7cec6384102b\", \"historial_modelo_bilstm.pkl\", 402)",
            "text/plain": [
              "<IPython.core.display.Javascript object>"
            ]
          },
          "metadata": {},
          "output_type": "display_data"
        }
      ],
      "source": [
        "# Guardar el Tokenizador\n",
        "\n",
        "with open('tokenizer_bilstm.pkl', 'wb') as handle:\n",
        "    pickle.dump(tokenizer, handle, protocol=pickle.HIGHEST_PROTOCOL)\n",
        "\n",
        "# Guardar el Codificador de Etiquetas\n",
        "with open('label_encoder_bilstm.pkl', 'wb') as handle:\n",
        "    pickle.dump(lbl_enc, handle, protocol=pickle.HIGHEST_PROTOCOL)\n",
        "\n",
        "with open('historial_modelo_bilstm.pkl', 'wb') as f:\n",
        "    pickle.dump(model_history_BILSTM.history, f)\n",
        "\n",
        "# Guardar el Modelo BiLSTM\n",
        "modelBiLSTM.save(\"my_bilstm_model.keras\")\n",
        "\n",
        "# Descargar los archivos generados\n",
        "from google.colab import files\n",
        "files.download('tokenizer_bilstm.pkl')\n",
        "files.download('label_encoder_bilstm.pkl')\n",
        "files.download('my_bilstm_model.keras')\n",
        "files.download('historial_modelo_bilstm.pkl')\n"
      ]
    },
    {
      "cell_type": "code",
      "execution_count": null,
      "metadata": {
        "id": "rof-YS9eocFk"
      },
      "outputs": [],
      "source": [
        "import re\n",
        "def inputan_user_BiLSTM(pattern):\n",
        "    text = []\n",
        "    txt = re.sub('[^a-zA-Z\\']', ' ', pattern)\n",
        "    txt = txt.lower()\n",
        "    txt = txt.split()\n",
        "    txt = \" \".join(txt)\n",
        "    text.append(txt)\n",
        "\n",
        "    # Tokenizar y aplicar padding a la entrada\n",
        "    x_test = tokenizer.texts_to_sequences(text)\n",
        "    x_test = pad_sequences(x_test, padding='post', maxlen=18)\n",
        "\n",
        "    # Hacer predicción usando el modelo\n",
        "    y_pred = modelBiLSTM.predict(x_test)\n",
        "    y_pred = y_pred.argmax()\n",
        "    tag = lbl_enc.inverse_transform([y_pred])[0]\n",
        "    responses = df[df['tag'] == tag]['responses'].values[0]\n",
        "\n",
        "    # Mostrar la entrada del usuario y la respuesta del bot\n",
        "    print(\"User: {}\".format(pattern))\n",
        "    print(\" BOT : {}\".format(np.random.choice(responses)))\n"
      ]
    },
    {
      "cell_type": "code",
      "execution_count": null,
      "metadata": {
        "id": "hitSBfBnof_M"
      },
      "outputs": [],
      "source": [
        "# Cargar el Modelo BiLSTM previamente guardado\n",
        "model_path = 'my_bilstm_model.keras'\n",
        "modelo_cargado = tf.keras.models.load_model(model_path)\n",
        "\n",
        "\n"
      ]
    },
    {
      "cell_type": "code",
      "execution_count": null,
      "metadata": {
        "colab": {
          "base_uri": "https://localhost:8080/"
        },
        "id": "hidK8C2RomKc",
        "outputId": "326e3cd8-a3eb-46c9-8c25-ebd7201f87c3"
      },
      "outputs": [
        {
          "name": "stdout",
          "output_type": "stream",
          "text": [
            "1/1 [==============================] - 6s 6s/step\n",
            "User: Hola\n",
            " BOT : ¡Hola! Soy un chatbot de AiMara y estoy aquí para ayudarte. Mi función es proporcionarte toda la información necesaria sobre los procedimientos, requisitos y criterios para obtener el Grado Académico de Bachiller y el Título Profesional en cada una de las Escuelas Profesionales de la Universidad Nacional de Moquegua, siempre siguiendo al pie de la letra la normativa vigente. \n",
            " \n",
            " Mi misión principal es asegurarme de que tengas respuestas claras y precisas sobre las normas de administración que rigen estos procesos, ya que tanto el Grado Académico de Bachiller como el Título Profesional son reconocimientos importantes que la Universidad Nacional de Moquegua otorga en nombre de nuestra nación. \n",
            " \n",
            " Estoy aquí para servirte, así que no dudes en acudir a mí si tienes alguna pregunta o necesitas orientación. Mi objetivo es brindarte la mejor ayuda posible, tanto si eres estudiante, egresado, bachiller, docente o autoridad de alguna de las Escuelas Profesionales de nuestra universidad, así como en las respectivas dependencias administrativas. ¡Estoy a tu disposición!\n"
          ]
        }
      ],
      "source": [
        "# Ejemplo de uso del chatbot BiLSTM\n",
        "inputan_user_BiLSTM(\"Hola\")"
      ]
    },
    {
      "cell_type": "markdown",
      "metadata": {
        "id": "YePw7RvRomyJ"
      },
      "source": [
        "#GRU"
      ]
    },
    {
      "cell_type": "code",
      "execution_count": null,
      "metadata": {
        "id": "L3o3dhx_ooah"
      },
      "outputs": [],
      "source": [
        "modelGru = tf.keras.Sequential()\n",
        "\n",
        "# Capa de Embedding\n",
        "modelGru.add(Embedding(input_dim=vocab_size + 1, output_dim=100, mask_zero=True))\n",
        "\n",
        "# Capa GRU\n",
        "modelGru.add(GRU (32))\n",
        "modelGru.add(LayerNormalization())\n",
        "\n",
        "# Capa Densa 1\n",
        "modelGru.add(Dense(256, activation=\"relu\"))\n",
        "modelGru.add(LayerNormalization())\n",
        "modelGru.add(Dropout(0.5))\n",
        "\n",
        "# Capa Densa 2\n",
        "modelGru.add(Dense(256, activation=\"relu\"))\n",
        "modelGru.add(Dropout(0.5))\n",
        "\n",
        "# Capa de Salida\n",
        "modelGru.add(Dense(num_classes, activation=\"softmax\"))\n",
        "\n",
        "# Compilación del modelo\n",
        "modelGru.compile(optimizer='adam', loss=\"sparse_categorical_crossentropy\", metrics=['accuracy'])\n"
      ]
    },
    {
      "cell_type": "code",
      "execution_count": null,
      "metadata": {
        "colab": {
          "base_uri": "https://localhost:8080/"
        },
        "id": "bBxDDK8Goyr-",
        "outputId": "4b859eef-f1ab-45ef-ec9a-e6c474cd65bb"
      },
      "outputs": [
        {
          "name": "stdout",
          "output_type": "stream",
          "text": [
            "Model: \"sequential_2\"\n",
            "_________________________________________________________________\n",
            " Layer (type)                Output Shape              Param #   \n",
            "=================================================================\n",
            " embedding_2 (Embedding)     (None, None, 100)         57500     \n",
            "                                                                 \n",
            " gru (GRU)                   (None, 32)                12864     \n",
            "                                                                 \n",
            " layer_normalization_8 (Lay  (None, 32)                64        \n",
            " erNormalization)                                                \n",
            "                                                                 \n",
            " dense_6 (Dense)             (None, 256)               8448      \n",
            "                                                                 \n",
            " layer_normalization_9 (Lay  (None, 256)               512       \n",
            " erNormalization)                                                \n",
            "                                                                 \n",
            " dropout_4 (Dropout)         (None, 256)               0         \n",
            "                                                                 \n",
            " dense_7 (Dense)             (None, 256)               65792     \n",
            "                                                                 \n",
            " dropout_5 (Dropout)         (None, 256)               0         \n",
            "                                                                 \n",
            " dense_8 (Dense)             (None, 31)                7967      \n",
            "                                                                 \n",
            "=================================================================\n",
            "Total params: 153147 (598.23 KB)\n",
            "Trainable params: 153147 (598.23 KB)\n",
            "Non-trainable params: 0 (0.00 Byte)\n",
            "_________________________________________________________________\n"
          ]
        }
      ],
      "source": [
        "\n",
        "# Compile the model\n",
        "modelGru.compile(optimizer='adam', loss=\"sparse_categorical_crossentropy\", metrics=['accuracy'])\n",
        "\n",
        "# Model Summary\n",
        "\n",
        "modelGru.summary()\n"
      ]
    },
    {
      "cell_type": "code",
      "execution_count": null,
      "metadata": {
        "colab": {
          "base_uri": "https://localhost:8080/"
        },
        "id": "zCNgaRiro1US",
        "outputId": "cf4c882a-4283-4376-af27-15eed2817311"
      },
      "outputs": [
        {
          "name": "stdout",
          "output_type": "stream",
          "text": [
            "Epoch 1/20\n",
            "48/48 [==============================] - 7s 18ms/step - loss: 4.0507 - accuracy: 0.0777\n",
            "Epoch 2/20\n",
            "48/48 [==============================] - 1s 19ms/step - loss: 3.0289 - accuracy: 0.2248\n",
            "Epoch 3/20\n",
            "48/48 [==============================] - 1s 19ms/step - loss: 2.5559 - accuracy: 0.2920\n",
            "Epoch 4/20\n",
            "48/48 [==============================] - 1s 19ms/step - loss: 2.1364 - accuracy: 0.3950\n",
            "Epoch 5/20\n",
            "48/48 [==============================] - 1s 19ms/step - loss: 1.9387 - accuracy: 0.4769\n",
            "Epoch 6/20\n",
            "48/48 [==============================] - 1s 20ms/step - loss: 1.6097 - accuracy: 0.5315\n",
            "Epoch 7/20\n",
            "48/48 [==============================] - 1s 25ms/step - loss: 1.3874 - accuracy: 0.6029\n",
            "Epoch 8/20\n",
            "48/48 [==============================] - 1s 29ms/step - loss: 1.2357 - accuracy: 0.6261\n",
            "Epoch 9/20\n",
            "48/48 [==============================] - 1s 26ms/step - loss: 1.1327 - accuracy: 0.6471\n",
            "Epoch 10/20\n",
            "48/48 [==============================] - 1s 20ms/step - loss: 0.8298 - accuracy: 0.7374\n",
            "Epoch 11/20\n",
            "48/48 [==============================] - 1s 21ms/step - loss: 0.7656 - accuracy: 0.7668\n",
            "Epoch 12/20\n",
            "48/48 [==============================] - 1s 20ms/step - loss: 0.6324 - accuracy: 0.7836\n",
            "Epoch 13/20\n",
            "48/48 [==============================] - 1s 19ms/step - loss: 0.5646 - accuracy: 0.8172\n",
            "Epoch 14/20\n",
            "48/48 [==============================] - 1s 19ms/step - loss: 0.4970 - accuracy: 0.8298\n",
            "Epoch 15/20\n",
            "48/48 [==============================] - 1s 20ms/step - loss: 0.3791 - accuracy: 0.8655\n",
            "Epoch 16/20\n",
            "48/48 [==============================] - 1s 19ms/step - loss: 0.2877 - accuracy: 0.8929\n",
            "Epoch 17/20\n",
            "48/48 [==============================] - 1s 19ms/step - loss: 0.3883 - accuracy: 0.8929\n",
            "Epoch 18/20\n",
            "48/48 [==============================] - 1s 19ms/step - loss: 0.2784 - accuracy: 0.9202\n",
            "Epoch 19/20\n",
            "48/48 [==============================] - 1s 19ms/step - loss: 0.2259 - accuracy: 0.9286\n",
            "Epoch 20/20\n",
            "48/48 [==============================] - 1s 29ms/step - loss: 0.3057 - accuracy: 0.9181\n"
          ]
        }
      ],
      "source": [
        "# Entrenamiento del modelo\n",
        "model_history_GRU = modelGru.fit(x=X, y=y,\n",
        "                          batch_size=10,\n",
        "                          callbacks=[tf.keras.callbacks.EarlyStopping(monitor='accuracy', patience=3),History()],\n",
        "                          epochs=20)"
      ]
    },
    {
      "cell_type": "code",
      "execution_count": null,
      "metadata": {
        "colab": {
          "base_uri": "https://localhost:8080/",
          "height": 17
        },
        "id": "Phb_05p9pCyP",
        "outputId": "8650d64d-ba71-4b06-f32c-bcc7f416d622"
      },
      "outputs": [
        {
          "data": {
            "application/javascript": "\n    async function download(id, filename, size) {\n      if (!google.colab.kernel.accessAllowed) {\n        return;\n      }\n      const div = document.createElement('div');\n      const label = document.createElement('label');\n      label.textContent = `Downloading \"${filename}\": `;\n      div.appendChild(label);\n      const progress = document.createElement('progress');\n      progress.max = size;\n      div.appendChild(progress);\n      document.body.appendChild(div);\n\n      const buffers = [];\n      let downloaded = 0;\n\n      const channel = await google.colab.kernel.comms.open(id);\n      // Send a message to notify the kernel that we're ready.\n      channel.send({})\n\n      for await (const message of channel.messages) {\n        // Send a message to notify the kernel that we're ready.\n        channel.send({})\n        if (message.buffers) {\n          for (const buffer of message.buffers) {\n            buffers.push(buffer);\n            downloaded += buffer.byteLength;\n            progress.value = downloaded;\n          }\n        }\n      }\n      const blob = new Blob(buffers, {type: 'application/binary'});\n      const a = document.createElement('a');\n      a.href = window.URL.createObjectURL(blob);\n      a.download = filename;\n      div.appendChild(a);\n      a.click();\n      div.remove();\n    }\n  ",
            "text/plain": [
              "<IPython.core.display.Javascript object>"
            ]
          },
          "metadata": {},
          "output_type": "display_data"
        },
        {
          "data": {
            "application/javascript": "download(\"download_e3690cc8-f47c-40a8-ad1a-c3254db1feac\", \"tokenizer_gru.pkl\", 20666)",
            "text/plain": [
              "<IPython.core.display.Javascript object>"
            ]
          },
          "metadata": {},
          "output_type": "display_data"
        },
        {
          "data": {
            "application/javascript": "\n    async function download(id, filename, size) {\n      if (!google.colab.kernel.accessAllowed) {\n        return;\n      }\n      const div = document.createElement('div');\n      const label = document.createElement('label');\n      label.textContent = `Downloading \"${filename}\": `;\n      div.appendChild(label);\n      const progress = document.createElement('progress');\n      progress.max = size;\n      div.appendChild(progress);\n      document.body.appendChild(div);\n\n      const buffers = [];\n      let downloaded = 0;\n\n      const channel = await google.colab.kernel.comms.open(id);\n      // Send a message to notify the kernel that we're ready.\n      channel.send({})\n\n      for await (const message of channel.messages) {\n        // Send a message to notify the kernel that we're ready.\n        channel.send({})\n        if (message.buffers) {\n          for (const buffer of message.buffers) {\n            buffers.push(buffer);\n            downloaded += buffer.byteLength;\n            progress.value = downloaded;\n          }\n        }\n      }\n      const blob = new Blob(buffers, {type: 'application/binary'});\n      const a = document.createElement('a');\n      a.href = window.URL.createObjectURL(blob);\n      a.download = filename;\n      div.appendChild(a);\n      a.click();\n      div.remove();\n    }\n  ",
            "text/plain": [
              "<IPython.core.display.Javascript object>"
            ]
          },
          "metadata": {},
          "output_type": "display_data"
        },
        {
          "data": {
            "application/javascript": "download(\"download_624fc5f2-0cf5-4b6e-9ec4-2fc8cf8135d1\", \"label_encoder_gru.pkl\", 1777)",
            "text/plain": [
              "<IPython.core.display.Javascript object>"
            ]
          },
          "metadata": {},
          "output_type": "display_data"
        },
        {
          "data": {
            "application/javascript": "\n    async function download(id, filename, size) {\n      if (!google.colab.kernel.accessAllowed) {\n        return;\n      }\n      const div = document.createElement('div');\n      const label = document.createElement('label');\n      label.textContent = `Downloading \"${filename}\": `;\n      div.appendChild(label);\n      const progress = document.createElement('progress');\n      progress.max = size;\n      div.appendChild(progress);\n      document.body.appendChild(div);\n\n      const buffers = [];\n      let downloaded = 0;\n\n      const channel = await google.colab.kernel.comms.open(id);\n      // Send a message to notify the kernel that we're ready.\n      channel.send({})\n\n      for await (const message of channel.messages) {\n        // Send a message to notify the kernel that we're ready.\n        channel.send({})\n        if (message.buffers) {\n          for (const buffer of message.buffers) {\n            buffers.push(buffer);\n            downloaded += buffer.byteLength;\n            progress.value = downloaded;\n          }\n        }\n      }\n      const blob = new Blob(buffers, {type: 'application/binary'});\n      const a = document.createElement('a');\n      a.href = window.URL.createObjectURL(blob);\n      a.download = filename;\n      div.appendChild(a);\n      a.click();\n      div.remove();\n    }\n  ",
            "text/plain": [
              "<IPython.core.display.Javascript object>"
            ]
          },
          "metadata": {},
          "output_type": "display_data"
        },
        {
          "data": {
            "application/javascript": "download(\"download_b696c0ca-0a74-4800-baf7-2cde33187f45\", \"my_gru_model.keras\", 1889087)",
            "text/plain": [
              "<IPython.core.display.Javascript object>"
            ]
          },
          "metadata": {},
          "output_type": "display_data"
        },
        {
          "data": {
            "application/javascript": "\n    async function download(id, filename, size) {\n      if (!google.colab.kernel.accessAllowed) {\n        return;\n      }\n      const div = document.createElement('div');\n      const label = document.createElement('label');\n      label.textContent = `Downloading \"${filename}\": `;\n      div.appendChild(label);\n      const progress = document.createElement('progress');\n      progress.max = size;\n      div.appendChild(progress);\n      document.body.appendChild(div);\n\n      const buffers = [];\n      let downloaded = 0;\n\n      const channel = await google.colab.kernel.comms.open(id);\n      // Send a message to notify the kernel that we're ready.\n      channel.send({})\n\n      for await (const message of channel.messages) {\n        // Send a message to notify the kernel that we're ready.\n        channel.send({})\n        if (message.buffers) {\n          for (const buffer of message.buffers) {\n            buffers.push(buffer);\n            downloaded += buffer.byteLength;\n            progress.value = downloaded;\n          }\n        }\n      }\n      const blob = new Blob(buffers, {type: 'application/binary'});\n      const a = document.createElement('a');\n      a.href = window.URL.createObjectURL(blob);\n      a.download = filename;\n      div.appendChild(a);\n      a.click();\n      div.remove();\n    }\n  ",
            "text/plain": [
              "<IPython.core.display.Javascript object>"
            ]
          },
          "metadata": {},
          "output_type": "display_data"
        },
        {
          "data": {
            "application/javascript": "download(\"download_e42b0119-dfd7-4db0-b7c7-571ea661cc69\", \"historial_modelo_gru.pkl\", 402)",
            "text/plain": [
              "<IPython.core.display.Javascript object>"
            ]
          },
          "metadata": {},
          "output_type": "display_data"
        }
      ],
      "source": [
        "# Guardar el Tokenizador\n",
        "with open('tokenizer_gru.pkl', 'wb') as handle:\n",
        "    pickle.dump(tokenizer, handle, protocol=pickle.HIGHEST_PROTOCOL)\n",
        "\n",
        "# Guardar el Codificador de Etiquetas\n",
        "with open('label_encoder_gru.pkl', 'wb') as handle:\n",
        "    pickle.dump(lbl_enc, handle, protocol=pickle.HIGHEST_PROTOCOL)\n",
        "\n",
        "with open('historial_modelo_gru.pkl', 'wb') as f:\n",
        "    pickle.dump(model_history_GRU.history, f)\n",
        "\n",
        "# Guardar el Modelo BiLSTM\n",
        "modelGru.save(\"my_gru_model.keras\")\n",
        "\n",
        "# Descargar los archivos generados\n",
        "from google.colab import files\n",
        "files.download('tokenizer_gru.pkl')\n",
        "files.download('label_encoder_gru.pkl')\n",
        "files.download('my_gru_model.keras')\n",
        "files.download('historial_modelo_gru.pkl')\n"
      ]
    },
    {
      "cell_type": "code",
      "execution_count": null,
      "metadata": {
        "id": "rUzwUWjtpZKz"
      },
      "outputs": [],
      "source": [
        "import re\n",
        "def inputan_user_Gru(pattern):\n",
        "    text = []\n",
        "    txt = re.sub('[^a-zA-Z\\']', ' ', pattern)\n",
        "    txt = txt.lower()\n",
        "    txt = txt.split()\n",
        "    txt = \" \".join(txt)\n",
        "    text.append(txt)\n",
        "\n",
        "    # Tokenizar y aplicar padding a la entrada\n",
        "    x_test = tokenizer.texts_to_sequences(text)\n",
        "    x_test = pad_sequences(x_test, padding='post', maxlen=18)\n",
        "\n",
        "    # Hacer predicción usando el modelo\n",
        "    y_pred = modelGru.predict(x_test)\n",
        "    y_pred = y_pred.argmax()\n",
        "    tag = lbl_enc.inverse_transform([y_pred])[0]\n",
        "    responses = df[df['tag'] == tag]['responses'].values[0]\n",
        "\n",
        "    # Mostrar la entrada del usuario y la respuesta del bot\n",
        "    print(\"User: {}\".format(pattern))\n",
        "    print(\" BOT : {}\".format(np.random.choice(responses)))\n"
      ]
    },
    {
      "cell_type": "code",
      "execution_count": null,
      "metadata": {
        "id": "2KE2VOvIpNym"
      },
      "outputs": [],
      "source": [
        "# Cargar el Modelo BiLSTM previamente guardado\n",
        "model_path = 'my_gru_model.keras'\n",
        "modelo_cargado = tf.keras.models.load_model(model_path)\n",
        "\n",
        "\n"
      ]
    },
    {
      "cell_type": "code",
      "execution_count": null,
      "metadata": {
        "colab": {
          "base_uri": "https://localhost:8080/"
        },
        "id": "DcklY5-kpYZD",
        "outputId": "7319feba-40db-479a-da00-e080645eebf9"
      },
      "outputs": [
        {
          "name": "stdout",
          "output_type": "stream",
          "text": [
            "1/1 [==============================] - 2s 2s/step\n",
            "User: Hola\n",
            " BOT : ¡Hola! Soy un chatbot de AiMara y estoy aquí para ayudarte. Mi función es proporcionarte toda la información necesaria sobre los procedimientos, requisitos y criterios para obtener el Grado Académico de Bachiller y el Título Profesional en cada una de las Escuelas Profesionales de la Universidad Nacional de Moquegua, siempre siguiendo al pie de la letra la normativa vigente. \n",
            " \n",
            " Mi misión principal es asegurarme de que tengas respuestas claras y precisas sobre las normas de administración que rigen estos procesos, ya que tanto el Grado Académico de Bachiller como el Título Profesional son reconocimientos importantes que la Universidad Nacional de Moquegua otorga en nombre de nuestra nación. \n",
            " \n",
            " Estoy aquí para servirte, así que no dudes en acudir a mí si tienes alguna pregunta o necesitas orientación. Mi objetivo es brindarte la mejor ayuda posible, tanto si eres estudiante, egresado, bachiller, docente o autoridad de alguna de las Escuelas Profesionales de nuestra universidad, así como en las respectivas dependencias administrativas. ¡Estoy a tu disposición!\n"
          ]
        }
      ],
      "source": [
        "inputan_user_Gru(\"Hola\")"
      ]
    },
    {
      "cell_type": "markdown",
      "metadata": {
        "id": "TDLo--EopoTU"
      },
      "source": [
        "#BiGru"
      ]
    },
    {
      "cell_type": "code",
      "execution_count": null,
      "metadata": {
        "id": "plAW-eIapqGP"
      },
      "outputs": [],
      "source": [
        "from tensorflow import keras\n",
        "from tensorflow.keras.layers import Embedding, Bidirectional, GRU, LayerNormalization, Dense, Dropout\n",
        "\n",
        "# Define the model\n",
        "modelBiGru = keras.Sequential()\n",
        "\n",
        "# Embedding layer for vocabulary size + 1 (including padding)\n",
        "modelBiGru.add(Embedding(input_dim=vocab_size + 1, output_dim=100, mask_zero=True))\n",
        "\n",
        "# First BGRU layer with return_sequences=True to process sequences\n",
        "modelBiGru.add(Bidirectional(GRU(32, return_sequences=True)))\n",
        "modelBiGru.add(LayerNormalization())  # Normalize activations for better training\n",
        "\n",
        "# Second BGRU layer\n",
        "modelBiGru.add(Bidirectional(GRU(32)))\n",
        "modelBiGru.add(LayerNormalization())\n",
        "\n",
        "# Dense layers with ReLU activation and dropout for regularization\n",
        "modelBiGru.add(Dense(256, activation=\"relu\"))\n",
        "modelBiGru.add(LayerNormalization())\n",
        "modelBiGru.add(Dropout(0.5))\n",
        "\n",
        "modelBiGru.add(Dense(256, activation=\"relu\"))\n",
        "modelBiGru.add(Dropout(0.5))\n",
        "\n",
        "# Output layer with softmax activation for multi-class classification\n",
        "modelBiGru.add(Dense(num_classes, activation=\"softmax\"))\n"
      ]
    },
    {
      "cell_type": "code",
      "execution_count": null,
      "metadata": {
        "colab": {
          "base_uri": "https://localhost:8080/"
        },
        "id": "jL6DKG1xpuEf",
        "outputId": "f5920a76-2ad2-40a2-f009-ebed77fc87ba"
      },
      "outputs": [
        {
          "name": "stdout",
          "output_type": "stream",
          "text": [
            "Model: \"sequential_3\"\n",
            "_________________________________________________________________\n",
            " Layer (type)                Output Shape              Param #   \n",
            "=================================================================\n",
            " embedding_3 (Embedding)     (None, None, 100)         57500     \n",
            "                                                                 \n",
            " bidirectional_2 (Bidirecti  (None, None, 64)          25728     \n",
            " onal)                                                           \n",
            "                                                                 \n",
            " layer_normalization_10 (La  (None, None, 64)          128       \n",
            " yerNormalization)                                               \n",
            "                                                                 \n",
            " bidirectional_3 (Bidirecti  (None, 64)                18816     \n",
            " onal)                                                           \n",
            "                                                                 \n",
            " layer_normalization_11 (La  (None, 64)                128       \n",
            " yerNormalization)                                               \n",
            "                                                                 \n",
            " dense_9 (Dense)             (None, 256)               16640     \n",
            "                                                                 \n",
            " layer_normalization_12 (La  (None, 256)               512       \n",
            " yerNormalization)                                               \n",
            "                                                                 \n",
            " dropout_6 (Dropout)         (None, 256)               0         \n",
            "                                                                 \n",
            " dense_10 (Dense)            (None, 256)               65792     \n",
            "                                                                 \n",
            " dropout_7 (Dropout)         (None, 256)               0         \n",
            "                                                                 \n",
            " dense_11 (Dense)            (None, 31)                7967      \n",
            "                                                                 \n",
            "=================================================================\n",
            "Total params: 193211 (754.73 KB)\n",
            "Trainable params: 193211 (754.73 KB)\n",
            "Non-trainable params: 0 (0.00 Byte)\n",
            "_________________________________________________________________\n"
          ]
        }
      ],
      "source": [
        "\n",
        "# Compile the model\n",
        "modelBiGru.compile(optimizer='adam', loss=\"sparse_categorical_crossentropy\", metrics=['accuracy'])\n",
        "\n",
        "# Model Summary\n",
        "\n",
        "modelBiGru.summary()\n"
      ]
    },
    {
      "cell_type": "code",
      "execution_count": null,
      "metadata": {
        "colab": {
          "base_uri": "https://localhost:8080/"
        },
        "id": "ThHcnSP8pwCJ",
        "outputId": "11697114-a5b3-4149-a639-f1f1fcedad70"
      },
      "outputs": [
        {
          "name": "stdout",
          "output_type": "stream",
          "text": [
            "Epoch 1/20\n",
            "48/48 [==============================] - 26s 61ms/step - loss: 4.2225 - accuracy: 0.0714\n",
            "Epoch 2/20\n",
            "48/48 [==============================] - 3s 59ms/step - loss: 3.1453 - accuracy: 0.1744\n",
            "Epoch 3/20\n",
            "48/48 [==============================] - 3s 66ms/step - loss: 2.5172 - accuracy: 0.2899\n",
            "Epoch 4/20\n",
            "48/48 [==============================] - 4s 76ms/step - loss: 1.9469 - accuracy: 0.4475\n",
            "Epoch 5/20\n",
            "48/48 [==============================] - 3s 52ms/step - loss: 1.4812 - accuracy: 0.5882\n",
            "Epoch 6/20\n",
            "48/48 [==============================] - 2s 49ms/step - loss: 1.1245 - accuracy: 0.6492\n",
            "Epoch 7/20\n",
            "48/48 [==============================] - 3s 57ms/step - loss: 0.8475 - accuracy: 0.7374\n",
            "Epoch 8/20\n",
            "48/48 [==============================] - 4s 81ms/step - loss: 0.5430 - accuracy: 0.8340\n",
            "Epoch 9/20\n",
            "48/48 [==============================] - 3s 57ms/step - loss: 0.4327 - accuracy: 0.8634\n",
            "Epoch 10/20\n",
            "48/48 [==============================] - 3s 58ms/step - loss: 0.4357 - accuracy: 0.8634\n",
            "Epoch 11/20\n",
            "48/48 [==============================] - 2s 52ms/step - loss: 0.2786 - accuracy: 0.9097\n",
            "Epoch 12/20\n",
            "48/48 [==============================] - 3s 64ms/step - loss: 0.2770 - accuracy: 0.9223\n",
            "Epoch 13/20\n",
            "48/48 [==============================] - 3s 71ms/step - loss: 0.1965 - accuracy: 0.9370\n",
            "Epoch 14/20\n",
            "48/48 [==============================] - 3s 56ms/step - loss: 0.1767 - accuracy: 0.9433\n",
            "Epoch 15/20\n",
            "48/48 [==============================] - 3s 65ms/step - loss: 0.1918 - accuracy: 0.9454\n",
            "Epoch 16/20\n",
            "48/48 [==============================] - 3s 65ms/step - loss: 0.1882 - accuracy: 0.9475\n",
            "Epoch 17/20\n",
            "48/48 [==============================] - 4s 78ms/step - loss: 0.1006 - accuracy: 0.9748\n",
            "Epoch 18/20\n",
            "48/48 [==============================] - 2s 50ms/step - loss: 0.1022 - accuracy: 0.9622\n",
            "Epoch 19/20\n",
            "48/48 [==============================] - 2s 49ms/step - loss: 0.1045 - accuracy: 0.9727\n",
            "Epoch 20/20\n",
            "48/48 [==============================] - 2s 51ms/step - loss: 0.0617 - accuracy: 0.9811\n"
          ]
        }
      ],
      "source": [
        "# Entrenamiento del modelo\n",
        "model_history_BIGRU = modelBiGru.fit(x=X, y=y,\n",
        "                          batch_size=10,\n",
        "                          callbacks=[tf.keras.callbacks.EarlyStopping(monitor='accuracy', patience=3),History()],\n",
        "                          epochs=20)\n",
        "\n"
      ]
    },
    {
      "cell_type": "code",
      "execution_count": null,
      "metadata": {
        "colab": {
          "base_uri": "https://localhost:8080/",
          "height": 17
        },
        "id": "UNJSl4B-pxBt",
        "outputId": "34bc578e-1bca-4c9b-93d7-9fbdce4db6e1"
      },
      "outputs": [
        {
          "data": {
            "application/javascript": "\n    async function download(id, filename, size) {\n      if (!google.colab.kernel.accessAllowed) {\n        return;\n      }\n      const div = document.createElement('div');\n      const label = document.createElement('label');\n      label.textContent = `Downloading \"${filename}\": `;\n      div.appendChild(label);\n      const progress = document.createElement('progress');\n      progress.max = size;\n      div.appendChild(progress);\n      document.body.appendChild(div);\n\n      const buffers = [];\n      let downloaded = 0;\n\n      const channel = await google.colab.kernel.comms.open(id);\n      // Send a message to notify the kernel that we're ready.\n      channel.send({})\n\n      for await (const message of channel.messages) {\n        // Send a message to notify the kernel that we're ready.\n        channel.send({})\n        if (message.buffers) {\n          for (const buffer of message.buffers) {\n            buffers.push(buffer);\n            downloaded += buffer.byteLength;\n            progress.value = downloaded;\n          }\n        }\n      }\n      const blob = new Blob(buffers, {type: 'application/binary'});\n      const a = document.createElement('a');\n      a.href = window.URL.createObjectURL(blob);\n      a.download = filename;\n      div.appendChild(a);\n      a.click();\n      div.remove();\n    }\n  ",
            "text/plain": [
              "<IPython.core.display.Javascript object>"
            ]
          },
          "metadata": {},
          "output_type": "display_data"
        },
        {
          "data": {
            "application/javascript": "download(\"download_3e45c6a1-bcc1-4d19-946e-34d56b9bb1bc\", \"tokenizer_bigru.pkl\", 20666)",
            "text/plain": [
              "<IPython.core.display.Javascript object>"
            ]
          },
          "metadata": {},
          "output_type": "display_data"
        },
        {
          "data": {
            "application/javascript": "\n    async function download(id, filename, size) {\n      if (!google.colab.kernel.accessAllowed) {\n        return;\n      }\n      const div = document.createElement('div');\n      const label = document.createElement('label');\n      label.textContent = `Downloading \"${filename}\": `;\n      div.appendChild(label);\n      const progress = document.createElement('progress');\n      progress.max = size;\n      div.appendChild(progress);\n      document.body.appendChild(div);\n\n      const buffers = [];\n      let downloaded = 0;\n\n      const channel = await google.colab.kernel.comms.open(id);\n      // Send a message to notify the kernel that we're ready.\n      channel.send({})\n\n      for await (const message of channel.messages) {\n        // Send a message to notify the kernel that we're ready.\n        channel.send({})\n        if (message.buffers) {\n          for (const buffer of message.buffers) {\n            buffers.push(buffer);\n            downloaded += buffer.byteLength;\n            progress.value = downloaded;\n          }\n        }\n      }\n      const blob = new Blob(buffers, {type: 'application/binary'});\n      const a = document.createElement('a');\n      a.href = window.URL.createObjectURL(blob);\n      a.download = filename;\n      div.appendChild(a);\n      a.click();\n      div.remove();\n    }\n  ",
            "text/plain": [
              "<IPython.core.display.Javascript object>"
            ]
          },
          "metadata": {},
          "output_type": "display_data"
        },
        {
          "data": {
            "application/javascript": "download(\"download_1f60251f-79c8-4cf4-892e-409c1654ce39\", \"label_encoder_bigru.pkl\", 1777)",
            "text/plain": [
              "<IPython.core.display.Javascript object>"
            ]
          },
          "metadata": {},
          "output_type": "display_data"
        },
        {
          "data": {
            "application/javascript": "\n    async function download(id, filename, size) {\n      if (!google.colab.kernel.accessAllowed) {\n        return;\n      }\n      const div = document.createElement('div');\n      const label = document.createElement('label');\n      label.textContent = `Downloading \"${filename}\": `;\n      div.appendChild(label);\n      const progress = document.createElement('progress');\n      progress.max = size;\n      div.appendChild(progress);\n      document.body.appendChild(div);\n\n      const buffers = [];\n      let downloaded = 0;\n\n      const channel = await google.colab.kernel.comms.open(id);\n      // Send a message to notify the kernel that we're ready.\n      channel.send({})\n\n      for await (const message of channel.messages) {\n        // Send a message to notify the kernel that we're ready.\n        channel.send({})\n        if (message.buffers) {\n          for (const buffer of message.buffers) {\n            buffers.push(buffer);\n            downloaded += buffer.byteLength;\n            progress.value = downloaded;\n          }\n        }\n      }\n      const blob = new Blob(buffers, {type: 'application/binary'});\n      const a = document.createElement('a');\n      a.href = window.URL.createObjectURL(blob);\n      a.download = filename;\n      div.appendChild(a);\n      a.click();\n      div.remove();\n    }\n  ",
            "text/plain": [
              "<IPython.core.display.Javascript object>"
            ]
          },
          "metadata": {},
          "output_type": "display_data"
        },
        {
          "data": {
            "application/javascript": "download(\"download_b0be9574-46ac-4221-a12e-9ca12127f6d1\", \"my_bigru_model.keras\", 2407121)",
            "text/plain": [
              "<IPython.core.display.Javascript object>"
            ]
          },
          "metadata": {},
          "output_type": "display_data"
        },
        {
          "data": {
            "application/javascript": "\n    async function download(id, filename, size) {\n      if (!google.colab.kernel.accessAllowed) {\n        return;\n      }\n      const div = document.createElement('div');\n      const label = document.createElement('label');\n      label.textContent = `Downloading \"${filename}\": `;\n      div.appendChild(label);\n      const progress = document.createElement('progress');\n      progress.max = size;\n      div.appendChild(progress);\n      document.body.appendChild(div);\n\n      const buffers = [];\n      let downloaded = 0;\n\n      const channel = await google.colab.kernel.comms.open(id);\n      // Send a message to notify the kernel that we're ready.\n      channel.send({})\n\n      for await (const message of channel.messages) {\n        // Send a message to notify the kernel that we're ready.\n        channel.send({})\n        if (message.buffers) {\n          for (const buffer of message.buffers) {\n            buffers.push(buffer);\n            downloaded += buffer.byteLength;\n            progress.value = downloaded;\n          }\n        }\n      }\n      const blob = new Blob(buffers, {type: 'application/binary'});\n      const a = document.createElement('a');\n      a.href = window.URL.createObjectURL(blob);\n      a.download = filename;\n      div.appendChild(a);\n      a.click();\n      div.remove();\n    }\n  ",
            "text/plain": [
              "<IPython.core.display.Javascript object>"
            ]
          },
          "metadata": {},
          "output_type": "display_data"
        },
        {
          "data": {
            "application/javascript": "download(\"download_a81440d1-f8cc-4283-baa2-dc3f5c4a7092\", \"historial_modelo_bigru.pkl\", 402)",
            "text/plain": [
              "<IPython.core.display.Javascript object>"
            ]
          },
          "metadata": {},
          "output_type": "display_data"
        }
      ],
      "source": [
        "# Guardar el Tokenizador\n",
        "\n",
        "with open('tokenizer_bigru.pkl', 'wb') as handle:\n",
        "    pickle.dump(tokenizer, handle, protocol=pickle.HIGHEST_PROTOCOL)\n",
        "\n",
        "# Guardar el Codificador de Etiquetas\n",
        "with open('label_encoder_bigru.pkl', 'wb') as handle:\n",
        "    pickle.dump(lbl_enc, handle, protocol=pickle.HIGHEST_PROTOCOL)\n",
        "\n",
        "with open('historial_modelo_bigru.pkl', 'wb') as f:\n",
        "    pickle.dump(model_history_BIGRU.history, f)\n",
        "\n",
        "# Guardar el Modelo BiLSTM\n",
        "modelBiGru.save(\"my_bigru_model.keras\")\n",
        "\n",
        "# Descargar los archivos generados\n",
        "from google.colab import files\n",
        "files.download('tokenizer_bigru.pkl')\n",
        "files.download('label_encoder_bigru.pkl')\n",
        "files.download('my_bigru_model.keras')\n",
        "files.download('historial_modelo_bigru.pkl')\n"
      ]
    },
    {
      "cell_type": "code",
      "execution_count": null,
      "metadata": {
        "id": "1sIcOWPQtRBK"
      },
      "outputs": [],
      "source": [
        "import r\n",
        "def inputan_user_BiGru(pattern):\n",
        "    text = []\n",
        "    txt = re.sub('[^a-zA-Z\\']', ' ', pattern)\n",
        "    txt = txt.lower()\n",
        "    txt = txt.split()\n",
        "    txt = \" \".join(txt)\n",
        "    text.append(txt)\n",
        "\n",
        "    # Tokenizar y aplicar padding a la entrada\n",
        "    x_test = tokenizer.texts_to_sequences(text)\n",
        "    x_test = pad_sequences(x_test, padding='post', maxlen=18)\n",
        "\n",
        "    # Hacer predicción usando el modelo\n",
        "    y_pred = modelBiGru.predict(x_test)\n",
        "    y_pred = y_pred.argmax()\n",
        "    tag = lbl_enc.inverse_transform([y_pred])[0]\n",
        "    responses = df[df['tag'] == tag]['responses'].values[0]\n",
        "\n",
        "    # Mostrar la entrada del usuario y la respuesta del bot\n",
        "    print(\"User: {}\".format(pattern))\n",
        "    print(\" BOT : {}\".format(np.random.choice(responses)))\n"
      ]
    },
    {
      "cell_type": "code",
      "execution_count": null,
      "metadata": {
        "id": "hP3PyHgDpyl8"
      },
      "outputs": [],
      "source": [
        "# Cargar el Modelo BiLSTM previamente guardado\n",
        "\n",
        "model_path = 'my_bigru_model.keras'\n",
        "modelo_cargado = tf.keras.models.load_model(model_path)\n",
        "\n",
        "\n"
      ]
    },
    {
      "cell_type": "code",
      "execution_count": null,
      "metadata": {
        "colab": {
          "base_uri": "https://localhost:8080/"
        },
        "id": "YQ5xRHqTtY2D",
        "outputId": "903cd288-4cad-44a8-febb-538c33c15e1b"
      },
      "outputs": [
        {
          "name": "stdout",
          "output_type": "stream",
          "text": [
            "1/1 [==============================] - 6s 6s/step\n",
            "User: hola\n",
            " BOT : ¡Hola! Soy un chatbot de AiMara y estoy aquí para ayudarte. Mi función es proporcionarte toda la información necesaria sobre los procedimientos, requisitos y criterios para obtener el Grado Académico de Bachiller y el Título Profesional en cada una de las Escuelas Profesionales de la Universidad Nacional de Moquegua, siempre siguiendo al pie de la letra la normativa vigente. \n",
            " \n",
            " Mi misión principal es asegurarme de que tengas respuestas claras y precisas sobre las normas de administración que rigen estos procesos, ya que tanto el Grado Académico de Bachiller como el Título Profesional son reconocimientos importantes que la Universidad Nacional de Moquegua otorga en nombre de nuestra nación. \n",
            " \n",
            " Estoy aquí para servirte, así que no dudes en acudir a mí si tienes alguna pregunta o necesitas orientación. Mi objetivo es brindarte la mejor ayuda posible, tanto si eres estudiante, egresado, bachiller, docente o autoridad de alguna de las Escuelas Profesionales de nuestra universidad, así como en las respectivas dependencias administrativas. ¡Estoy a tu disposición!\n"
          ]
        }
      ],
      "source": [
        "inputan_user_BiGru(\"hola\")"
      ]
    },
    {
      "cell_type": "markdown",
      "metadata": {
        "id": "INrht64hxV7W"
      },
      "source": [
        "#Pruebas Graficas\n",
        "\n",
        "\n",
        "---\n",
        "\n"
      ]
    },
    {
      "cell_type": "markdown",
      "metadata": {
        "id": "2goQ8UqKhcUC"
      },
      "source": [
        "### grafica de precisión"
      ]
    },
    {
      "cell_type": "code",
      "execution_count": null,
      "metadata": {
        "colab": {
          "base_uri": "https://localhost:8080/"
        },
        "id": "8gmmW6KvxYZN",
        "outputId": "9a402e3e-2169-40be-c559-dab02b6eda38"
      },
      "outputs": [
        {
          "data": {
            "image/png": "[encoded data removed]",
            "text/plain": [
              "<Figure size 640x480 with 1 Axes>"
            ]
          },
          "metadata": {},
          "output_type": "display_data"
        }
      ],
      "source": [
        "import matplotlib.pyplot as plt\n",
        "from tensorflow.keras.callbacks import History\n",
        "\n",
        "# Cargar historial del modelo\n",
        "\n",
        "# model_history_BIGRU = pickle.load(open('historial_modelo_bilstm.pkl', 'rb'))\n",
        "\n",
        "# Obtener los valores de accuracy para entrenamiento y validación\n",
        "accuracya = model_history_LSTM.history['accuracy']\n",
        "xdd =model_history_BILSTM.history['accuracy']\n",
        "xd = model_history_GRU.history['accuracy']\n",
        "xdaaa = model_history_BIGRU.history['accuracy']\n",
        "\n",
        "# xdd =model_history_BIGRU.history[\"accuracy\"]\n",
        "\n",
        "# Graficar las curvas de accuracy\n",
        "plt.plot(accuracya, label='LTSM')\n",
        "plt.plot(xdd, label='BILTSM')\n",
        "plt.plot(xd, label='GRU')\n",
        "plt.plot(xdaaa, label='BIGRU')\n",
        "# plt.plot(xdd, label='BILTSM')\n",
        "\n",
        "plt.xlabel('Epoch')\n",
        "plt.ylabel('Accuracy')\n",
        "plt.legend()\n",
        "plt.show()\n"
      ]
    },
    {
      "cell_type": "markdown",
      "metadata": {
        "id": "ssTlrQcrhjnb"
      },
      "source": [
        "### grafica de pérdida"
      ]
    },
    {
      "cell_type": "code",
      "execution_count": null,
      "metadata": {
        "colab": {
          "base_uri": "https://localhost:8080/"
        },
        "id": "mDiXk5ZIg4Zn",
        "outputId": "97ceb7bb-7145-46ca-cafe-8402a1e3d695"
      },
      "outputs": [
        {
          "data": {
            "image/png": "[encoded data removed]",
            "text/plain": [
              "<Figure size 800x600 with 1 Axes>"
            ]
          },
          "metadata": {},
          "output_type": "display_data"
        }
      ],
      "source": [
        "loss_lstm = model_history_LSTM.history['loss']\n",
        "loss_bilstm = model_history_BILSTM.history['loss']\n",
        "loss_gru = model_history_GRU.history['loss']\n",
        "loss_bigru = model_history_BIGRU.history['loss']\n",
        "\n",
        "plt.figure(figsize=(8, 6))\n",
        "plt.plot(loss_lstm, label='LSTM')\n",
        "plt.plot(loss_bilstm, label='BiLSTM')\n",
        "plt.plot(loss_gru, label='GRU')\n",
        "plt.plot(loss_bigru, label='BiGRU')\n",
        "plt.xlabel('Epoch')\n",
        "plt.ylabel('Loss')\n",
        "plt.title('Curvas de pérdida durante el entrenamiento')\n",
        "plt.legend()\n",
        "plt.show()"
      ]
    },
    {
      "cell_type": "markdown",
      "metadata": {
        "id": "rBa7U7XDimfA"
      },
      "source": [
        "## Graficas de rendimiento"
      ]
    },
    {
      "cell_type": "markdown",
      "metadata": {
        "id": "siDxRdF4O0d2"
      },
      "source": [
        "### tabla de datos"
      ]
    },
    {
      "cell_type": "code",
      "execution_count": null,
      "metadata": {
        "colab": {
          "base_uri": "https://localhost:8080/"
        },
        "id": "ptkNMnXMiwLA",
        "outputId": "f8a268e0-c9eb-4891-8a53-84d0797621bc"
      },
      "outputs": [
        {
          "name": "stdout",
          "output_type": "stream",
          "text": [
            "15/15 [==============================] - 0s 24ms/step\n",
            "15/15 [==============================] - 1s 58ms/step\n",
            "15/15 [==============================] - 0s 17ms/step\n",
            "15/15 [==============================] - 1s 38ms/step\n"
          ]
        }
      ],
      "source": [
        "from sklearn.metrics import accuracy_score, precision_score, recall_score, f1_score\n",
        "\n",
        "# Predicciones para cada modelo\n",
        "y_pred_lstm = modelLstm.predict(X)\n",
        "y_pred_bilstm = modelBiLSTM.predict(X)\n",
        "y_pred_gru = modelGru.predict(X)\n",
        "y_pred_bigru = modelBiGru.predict(X)\n",
        "\n",
        "# Accuracy\n",
        "accuracy_lstm = accuracy_score(y, y_pred_lstm.argmax(axis=1))\n",
        "accuracy_bilstm = accuracy_score(y, y_pred_bilstm.argmax(axis=1))\n",
        "accuracy_gru = accuracy_score(y, y_pred_gru.argmax(axis=1))\n",
        "accuracy_bigru = accuracy_score(y, y_pred_bigru.argmax(axis=1))\n",
        "\n",
        "# Precision\n",
        "precision_lstm = precision_score(y, y_pred_lstm.argmax(axis=1), average='weighted')\n",
        "precision_bilstm = precision_score(y, y_pred_bilstm.argmax(axis=1), average='weighted')\n",
        "precision_gru = precision_score(y, y_pred_gru.argmax(axis=1), average='weighted')\n",
        "precision_bigru = precision_score(y, y_pred_bigru.argmax(axis=1), average='weighted')\n",
        "\n",
        "# Recall\n",
        "recall_lstm = recall_score(y, y_pred_lstm.argmax(axis=1), average='weighted')\n",
        "recall_bilstm = recall_score(y, y_pred_bilstm.argmax(axis=1), average='weighted')\n",
        "recall_gru = recall_score(y, y_pred_gru.argmax(axis=1), average='weighted')\n",
        "recall_bigru = recall_score(y, y_pred_bigru.argmax(axis=1), average='weighted')\n",
        "\n",
        "# F1-Score\n",
        "f1_lstm = f1_score(y, y_pred_lstm.argmax(axis=1), average='weighted')\n",
        "f1_bilstm = f1_score(y, y_pred_bilstm.argmax(axis=1), average='weighted')\n",
        "f1_gru = f1_score(y, y_pred_gru.argmax(axis=1), average='weighted')\n",
        "f1_bigru = f1_score(y, y_pred_bigru.argmax(axis=1), average='weighted')"
      ]
    },
    {
      "cell_type": "code",
      "execution_count": null,
      "metadata": {
        "colab": {
          "base_uri": "https://localhost:8080/"
        },
        "id": "BO6jIjD2hUrX",
        "outputId": "7184692d-d345-4e89-9ae7-8a8e387db019"
      },
      "outputs": [
        {
          "name": "stdout",
          "output_type": "stream",
          "text": [
            "   Modelo  Precisión    Recall  F1-Score  Accuracy\n",
            "0    LSTM   0.994314  0.993697  0.993563  0.993697\n",
            "1  BiLSTM   0.992298  0.991597  0.991491  0.991597\n",
            "2     GRU   0.982564  0.981092  0.981219  0.981092\n",
            "3   BiGRU   0.996265  0.995798  0.995659  0.995798\n"
          ]
        }
      ],
      "source": [
        "import pandas as pd\n",
        "\n",
        "metrics = pd.DataFrame({\n",
        "    'Modelo': ['LSTM', 'BiLSTM', 'GRU', 'BiGRU'],\n",
        "    'Precisión': [precision_lstm, precision_bilstm, precision_gru, precision_bigru],\n",
        "    'Recall': [recall_lstm, recall_bilstm, recall_gru, recall_bigru],\n",
        "    'F1-Score': [f1_lstm, f1_bilstm, f1_gru, f1_bigru],\n",
        "    'Accuracy': [accuracy_lstm, accuracy_bilstm, accuracy_gru, accuracy_bigru]\n",
        "})\n",
        "\n",
        "print(metrics)"
      ]
    },
    {
      "cell_type": "markdown",
      "metadata": {
        "id": "oGVC9EbEO3QL"
      },
      "source": [
        "### metricas de rendimiento"
      ]
    },
    {
      "cell_type": "code",
      "execution_count": null,
      "metadata": {
        "colab": {
          "base_uri": "https://localhost:8080/",
          "height": 545
        },
        "id": "F2s2UClBipZk",
        "outputId": "7bc89546-1985-4085-d6dc-7373166b4c00"
      },
      "outputs": [
        {
          "data": {
            "image/png": "[encoded data removed]",
            "text/plain": [
              "<Figure size 1000x600 with 1 Axes>"
            ]
          },
          "metadata": {},
          "output_type": "display_data"
        }
      ],
      "source": [
        "import matplotlib.pyplot as plt\n",
        "import numpy as np\n",
        "\n",
        "metrics = ['Accuracy', 'Precision', 'Recall', 'F1-Score']\n",
        "lstm_values = [accuracy_lstm, precision_lstm, recall_lstm, f1_lstm]\n",
        "bilstm_values = [accuracy_bilstm, precision_bilstm, recall_bilstm, f1_bilstm]\n",
        "gru_values = [accuracy_gru, precision_gru, recall_gru, f1_gru]\n",
        "bigru_values = [accuracy_bigru, precision_bigru, recall_bigru, f1_bigru]\n",
        "\n",
        "x = np.arange(len(metrics))\n",
        "width = 0.15\n",
        "\n",
        "fig, ax = plt.subplots(figsize=(10, 6))\n",
        "rects1 = ax.bar(x - 0.3, lstm_values, width, label='LSTM')\n",
        "rects2 = ax.bar(x - 0.1, bilstm_values, width, label='BiLSTM')\n",
        "rects3 = ax.bar(x + 0.1, gru_values, width, label='GRU')\n",
        "rects4 = ax.bar(x + 0.3, bigru_values, width, label='BiGRU')\n",
        "\n",
        "# Agregar valores numéricos sobre cada barra\n",
        "for rect in rects1 + rects2 + rects3 + rects4:\n",
        "    height = rect.get_height()\n",
        "    ax.annotate('{:.2f}'.format(height),\n",
        "                xy=(rect.get_x() + rect.get_width() / 2, height),\n",
        "                xytext=(0, 3),\n",
        "                textcoords=\"offset points\",\n",
        "                ha='center', va='bottom')\n",
        "\n",
        "ax.set_ylabel('Score')\n",
        "ax.set_title('Métricas de rendimiento')\n",
        "ax.set_xticks(x)\n",
        "ax.set_xticklabels(metrics)\n",
        "ax.legend()\n",
        "\n",
        "plt.show()"
      ]
    },
    {
      "cell_type": "code",
      "execution_count": null,
      "metadata": {
        "colab": {
          "base_uri": "https://localhost:8080/"
        },
        "id": "iscgQjV8jH6I",
        "outputId": "3f5015e4-5941-42d5-d615-ccef7c6cf067"
      },
      "outputs": [
        {
          "name": "stdout",
          "output_type": "stream",
          "text": [
            "4/4 [==============================] - 0s 35ms/step\n",
            "4/4 [==============================] - 0s 41ms/step\n",
            "4/4 [==============================] - 0s 22ms/step\n",
            "4/4 [==============================] - 0s 39ms/step\n",
            "Tiempo de respuesta LSTM: 0.7567 segundos\n",
            "Tiempo de respuesta BiLSTM: 0.6500 segundos\n",
            "Tiempo de respuesta GRU: 0.5351 segundos\n",
            "Tiempo de respuesta BiGRU: 0.6991 segundos\n"
          ]
        }
      ],
      "source": [
        "import time\n",
        "\n",
        "# Datos de prueba\n",
        "X_test = X[:100]\n",
        "\n",
        "# Tiempo de respuesta LSTM\n",
        "start_time = time.time()\n",
        "lstm_predictions = modelLstm.predict(X_test)\n",
        "lstm_time = time.time() - start_time\n",
        "\n",
        "# Tiempo de respuesta BiLSTM\n",
        "start_time = time.time()\n",
        "bilstm_predictions = modelBiLSTM.predict(X_test)\n",
        "bilstm_time = time.time() - start_time\n",
        "\n",
        "# Tiempo de respuesta GRU\n",
        "start_time = time.time()\n",
        "gru_predictions = modelGru.predict(X_test)\n",
        "gru_time = time.time() - start_time\n",
        "\n",
        "# Tiempo de respuesta BiGRU\n",
        "start_time = time.time()\n",
        "bigru_predictions = modelBiGru.predict(X_test)\n",
        "bigru_time = time.time() - start_time\n",
        "\n",
        "print(f'Tiempo de respuesta LSTM: {lstm_time:.4f} segundos')\n",
        "print(f'Tiempo de respuesta BiLSTM: {bilstm_time:.4f} segundos')\n",
        "print(f'Tiempo de respuesta GRU: {gru_time:.4f} segundos')\n",
        "print(f'Tiempo de respuesta BiGRU: {bigru_time:.4f} segundos')"
      ]
    },
    {
      "cell_type": "code",
      "execution_count": null,
      "metadata": {
        "colab": {
          "base_uri": "https://localhost:8080/",
          "height": 545
        },
        "id": "aU1u0G1Bk9ow",
        "outputId": "da261ce0-f398-4af4-86ee-5e0112c784f2"
      },
      "outputs": [
        {
          "data": {
            "image/png": "[encoded data removed]",
            "text/plain": [
              "<Figure size 800x600 with 1 Axes>"
            ]
          },
          "metadata": {},
          "output_type": "display_data"
        }
      ],
      "source": [
        "import matplotlib.pyplot as plt\n",
        "\n",
        "models = ['LSTM', 'BiLSTM', 'GRU', 'BiGRU']\n",
        "response_times = [lstm_time, bilstm_time, gru_time, bigru_time]\n",
        "\n",
        "x = np.arange(len(models))\n",
        "width = 0.5\n",
        "\n",
        "fig, ax = plt.subplots(figsize=(8, 6))\n",
        "rects = ax.bar(x, response_times, width)\n",
        "\n",
        "# Agregar valores numéricos sobre cada barra\n",
        "for rect in rects:\n",
        "    height = rect.get_height()\n",
        "    ax.annotate('{:.4f}'.format(height),\n",
        "                xy=(rect.get_x() + rect.get_width() / 2, height),\n",
        "                xytext=(0, 3),\n",
        "                textcoords=\"offset points\",\n",
        "                ha='center', va='bottom')\n",
        "\n",
        "ax.set_ylabel('Time (segundos)')\n",
        "ax.set_title('Tiempos de respuesta')\n",
        "ax.set_xticks(x)\n",
        "ax.set_xticklabels(models)\n",
        "\n",
        "plt.show()"
      ]
    },
    {
      "cell_type": "code",
      "execution_count": null,
      "metadata": {
        "colab": {
          "base_uri": "https://localhost:8080/",
          "height": 962
        },
        "id": "3nmUsVAOpeY7",
        "outputId": "8896205d-5297-4b2e-8f65-b1a01ed81d73"
      },
      "outputs": [
        {
          "data": {
            "image/png": "[encoded data removed]",
            "text/plain": [
              "<Figure size 640x480 with 1 Axes>"
            ]
          },
          "metadata": {},
          "output_type": "display_data"
        }
      ],
      "source": [
        "import json\n",
        "import matplotlib.pyplot as plt\n",
        "\n",
        "# Load the JSON file\n",
        "with open(\"chatbot.json\", \"r\") as f:\n",
        "  data = json.load(f)\n",
        "\n",
        "# Count patterns for each tag\n",
        "etiquetas = []  # Convert to a list for using as dictionary keys\n",
        "numero_patrones = {}\n",
        "\n",
        "for intent in data[\"intents\"]:\n",
        "  etiquetas.append(intent[\"tag\"])\n",
        "  numero_patrones.setdefault(intent[\"tag\"], 0)\n",
        "  numero_patrones[intent[\"tag\"]] += len(intent[\"patterns\"])\n",
        "\n",
        "# Create the bar chart\n",
        "plt.bar(etiquetas, numero_patrones.values(), color=\"#1f77b4\")  # Assign default color if not defined\n",
        "plt.xlabel(\"Etiqueta\")\n",
        "plt.ylabel(\"Número de patrones\")\n",
        "plt.title(\"Número de patrones por etiqueta\")\n",
        "plt.tick_params(axis='x', rotation=90)\n",
        "plt.show()\n"
      ]
    },
    {
      "cell_type": "code",
      "execution_count": null,
      "metadata": {
        "id": "ohfvdWISuOfR"
      },
      "outputs": [],
      "source": []
    },
    {
      "cell_type": "code",
      "execution_count": null,
      "metadata": {
        "id": "Wa_04XYALos-"
      },
      "outputs": [],
      "source": [
        "from keras.models import load_model\n",
        "\n",
        "model = load_model(\"my_lstm_model.keras\")\n"
      ]
    },
    {
      "cell_type": "code",
      "execution_count": 18,
      "metadata": {
        "colab": {
          "base_uri": "https://localhost:8080/"
        },
        "id": "C1ZH1tLOcPiD",
        "outputId": "48ea7ae7-c5f3-41ee-8436-24ddcfd317ef"
      },
      "outputs": [
        {
          "name": "stdout",
          "output_type": "stream",
          "text": [
            "Keras version: 2.15.0\n"
          ]
        }
      ],
      "source": [
        "import keras\n",
        "\n",
        "print(\"Keras version:\", keras.__version__)\n"
      ]
    },
    {
      "cell_type": "code",
      "execution_count": 19,
      "metadata": {
        "colab": {
          "base_uri": "https://localhost:8080/",
          "height": 193
        },
        "id": "nOXUzWPAc_56",
        "outputId": "5346e33c-bd13-4289-a389-9ddbe0ca3078"
      },
      "outputs": [
        {
          "name": "stdout",
          "output_type": "stream",
          "text": [
            "TensorFlow version: 2.15.0\n"
          ]
        },
        {
          "ename": "AttributeError",
          "evalue": "module 'tensorflow.keras' has no attribute '__version__'",
          "output_type": "error",
          "traceback": [
            "\u001b[0;31m---------------------------------------------------------------------------\u001b[0m",
            "\u001b[0;31mAttributeError\u001b[0m                            Traceback (most recent call last)",
            "\u001b[0;32m<ipython-input-19-1ccaef524dc8>\u001b[0m in \u001b[0;36m<cell line: 4>\u001b[0;34m()\u001b[0m\n\u001b[1;32m      2\u001b[0m \u001b[0;34m\u001b[0m\u001b[0m\n\u001b[1;32m      3\u001b[0m \u001b[0mprint\u001b[0m\u001b[0;34m(\u001b[0m\u001b[0;34m\"TensorFlow version:\"\u001b[0m\u001b[0;34m,\u001b[0m \u001b[0mtf\u001b[0m\u001b[0;34m.\u001b[0m\u001b[0m__version__\u001b[0m\u001b[0;34m)\u001b[0m\u001b[0;34m\u001b[0m\u001b[0;34m\u001b[0m\u001b[0m\n\u001b[0;32m----> 4\u001b[0;31m \u001b[0mprint\u001b[0m\u001b[0;34m(\u001b[0m\u001b[0;34m\"Keras version:\"\u001b[0m\u001b[0;34m,\u001b[0m \u001b[0mtf\u001b[0m\u001b[0;34m.\u001b[0m\u001b[0mkeras\u001b[0m\u001b[0;34m.\u001b[0m\u001b[0m__version__\u001b[0m\u001b[0;34m)\u001b[0m\u001b[0;34m\u001b[0m\u001b[0;34m\u001b[0m\u001b[0m\n\u001b[0m",
            "\u001b[0;31mAttributeError\u001b[0m: module 'tensorflow.keras' has no attribute '__version__'"
          ]
        }
      ],
      "source": [
        "import tensorflow as tf\n",
        "\n",
        "print(\"TensorFlow version:\", tf.__version__)\n",
        "print(\"Keras version:\", tf.keras.__version__)\n"
      ]
    }
  ],
  "metadata": {
    "colab": {
      "collapsed_sections": [
        "45domr0Cth1q",
        "NjqyIvhIkDb5",
        "IsuztmMOkkbZ"
      ],
      "provenance": []
    },
    "kernelspec": {
      "display_name": "Python 3",
      "name": "python3"
    },
    "language_info": {
      "name": "python",
      "version": "3.10.12"
    }
  },
  "nbformat": 4,
  "nbformat_minor": 0
}
